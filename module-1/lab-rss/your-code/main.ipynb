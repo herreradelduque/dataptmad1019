{
 "cells": [
  {
   "cell_type": "markdown",
   "metadata": {},
   "source": [
    "# Working with RSS Feeds Lab\n",
    "\n",
    "Complete the following set of exercises to solidify your knowledge of parsing RSS feeds and extracting information from them."
   ]
  },
  {
   "cell_type": "code",
   "execution_count": 1,
   "metadata": {},
   "outputs": [],
   "source": [
    "#Previously installed feedparser in the Conda Environment\n",
    "import feedparser"
   ]
  },
  {
   "cell_type": "markdown",
   "metadata": {},
   "source": [
    "### 1. Use feedparser to parse the following RSS feed URL."
   ]
  },
  {
   "cell_type": "code",
   "execution_count": 2,
   "metadata": {},
   "outputs": [],
   "source": [
    "url = 'http://feeds.feedburner.com/oreilly/radar/atom'"
   ]
  },
  {
   "cell_type": "code",
   "execution_count": 3,
   "metadata": {},
   "outputs": [],
   "source": [
    "feed = feedparser.parse(url)"
   ]
  },
  {
   "cell_type": "markdown",
   "metadata": {},
   "source": [
    "### 2. Obtain a list of components (keys) that are available for this feed."
   ]
  },
  {
   "cell_type": "code",
   "execution_count": 4,
   "metadata": {},
   "outputs": [
    {
     "name": "stdout",
     "output_type": "stream",
     "text": [
      "['feed', 'entries', 'bozo', 'headers', 'etag', 'updated', 'updated_parsed', 'href', 'status', 'encoding', 'version', 'namespaces']\n"
     ]
    }
   ],
   "source": [
    "#option 1:\n",
    "list_keys = [key for key in feed]\n",
    "print(list_keys)"
   ]
  },
  {
   "cell_type": "code",
   "execution_count": 5,
   "metadata": {},
   "outputs": [
    {
     "name": "stdout",
     "output_type": "stream",
     "text": [
      "['feed', 'entries', 'bozo', 'headers', 'etag', 'updated', 'updated_parsed', 'href', 'status', 'encoding', 'version', 'namespaces']\n"
     ]
    }
   ],
   "source": [
    "#option 2:\n",
    "print(list(feed.keys()))"
   ]
  },
  {
   "cell_type": "markdown",
   "metadata": {},
   "source": [
    "### 3. Obtain a list of components (keys) that are available for the *feed* component of this RSS feed."
   ]
  },
  {
   "cell_type": "code",
   "execution_count": 6,
   "metadata": {},
   "outputs": [
    {
     "name": "stdout",
     "output_type": "stream",
     "text": [
      "['title', 'title_detail', 'links', 'link', 'subtitle', 'subtitle_detail', 'updated', 'updated_parsed', 'language', 'sy_updateperiod', 'sy_updatefrequency', 'generator_detail', 'generator', 'feedburner_info', 'geo_lat', 'geo_long', 'feedburner_emailserviceid', 'feedburner_feedburnerhostname']\n"
     ]
    }
   ],
   "source": [
    "#option 1:\n",
    "print(list(feed['feed'].keys()))"
   ]
  },
  {
   "cell_type": "code",
   "execution_count": 7,
   "metadata": {},
   "outputs": [
    {
     "name": "stdout",
     "output_type": "stream",
     "text": [
      "['title', 'title_detail', 'links', 'link', 'subtitle', 'subtitle_detail', 'updated', 'updated_parsed', 'language', 'sy_updateperiod', 'sy_updatefrequency', 'generator_detail', 'generator', 'feedburner_info', 'geo_lat', 'geo_long', 'feedburner_emailserviceid', 'feedburner_feedburnerhostname']\n"
     ]
    }
   ],
   "source": [
    "#option 2:\n",
    "k = [keys for keys in feed['feed']]\n",
    "print(k)"
   ]
  },
  {
   "cell_type": "markdown",
   "metadata": {},
   "source": [
    "### 4. Extract and print the feed title, subtitle, author, and link."
   ]
  },
  {
   "cell_type": "code",
   "execution_count": 8,
   "metadata": {},
   "outputs": [
    {
     "data": {
      "text/plain": [
       "['Radar',\n",
       " 'https://www.oreilly.com/radar',\n",
       " 'Now, next, and beyond: Tracking need-to-know trends at the intersection of business and technology']"
      ]
     },
     "execution_count": 8,
     "metadata": {},
     "output_type": "execute_result"
    }
   ],
   "source": [
    "selection = ['title', 'subtitle', 'author', 'link']\n",
    "extract = [value for (key,value) in feed['feed'].items() if key in selection] \n",
    "extract\n",
    "#as we can see in the result, the 'author' field is missing"
   ]
  },
  {
   "cell_type": "code",
   "execution_count": 9,
   "metadata": {},
   "outputs": [
    {
     "ename": "AttributeError",
     "evalue": "object has no attribute 'author'",
     "output_type": "error",
     "traceback": [
      "\u001b[0;31m---------------------------------------------------------------------------\u001b[0m",
      "\u001b[0;31mKeyError\u001b[0m                                  Traceback (most recent call last)",
      "\u001b[0;32m~/miniconda3/envs/data_env/lib/python3.7/site-packages/feedparser.py\u001b[0m in \u001b[0;36m__getattr__\u001b[0;34m(self, key)\u001b[0m\n\u001b[1;32m    397\u001b[0m         \u001b[0;32mtry\u001b[0m\u001b[0;34m:\u001b[0m\u001b[0;34m\u001b[0m\u001b[0;34m\u001b[0m\u001b[0m\n\u001b[0;32m--> 398\u001b[0;31m             \u001b[0;32mreturn\u001b[0m \u001b[0mself\u001b[0m\u001b[0;34m.\u001b[0m\u001b[0m__getitem__\u001b[0m\u001b[0;34m(\u001b[0m\u001b[0mkey\u001b[0m\u001b[0;34m)\u001b[0m\u001b[0;34m\u001b[0m\u001b[0;34m\u001b[0m\u001b[0m\n\u001b[0m\u001b[1;32m    399\u001b[0m         \u001b[0;32mexcept\u001b[0m \u001b[0mKeyError\u001b[0m\u001b[0;34m:\u001b[0m\u001b[0;34m\u001b[0m\u001b[0;34m\u001b[0m\u001b[0m\n",
      "\u001b[0;32m~/miniconda3/envs/data_env/lib/python3.7/site-packages/feedparser.py\u001b[0m in \u001b[0;36m__getitem__\u001b[0;34m(self, key)\u001b[0m\n\u001b[1;32m    355\u001b[0m                 \u001b[0;32mreturn\u001b[0m \u001b[0mdict\u001b[0m\u001b[0;34m.\u001b[0m\u001b[0m__getitem__\u001b[0m\u001b[0;34m(\u001b[0m\u001b[0mself\u001b[0m\u001b[0;34m,\u001b[0m \u001b[0mrealkey\u001b[0m\u001b[0;34m)\u001b[0m\u001b[0;34m\u001b[0m\u001b[0;34m\u001b[0m\u001b[0m\n\u001b[0;32m--> 356\u001b[0;31m         \u001b[0;32mreturn\u001b[0m \u001b[0mdict\u001b[0m\u001b[0;34m.\u001b[0m\u001b[0m__getitem__\u001b[0m\u001b[0;34m(\u001b[0m\u001b[0mself\u001b[0m\u001b[0;34m,\u001b[0m \u001b[0mkey\u001b[0m\u001b[0;34m)\u001b[0m\u001b[0;34m\u001b[0m\u001b[0;34m\u001b[0m\u001b[0m\n\u001b[0m\u001b[1;32m    357\u001b[0m \u001b[0;34m\u001b[0m\u001b[0m\n",
      "\u001b[0;31mKeyError\u001b[0m: 'author'",
      "\nDuring handling of the above exception, another exception occurred:\n",
      "\u001b[0;31mAttributeError\u001b[0m                            Traceback (most recent call last)",
      "\u001b[0;32m<ipython-input-9-a7de075148aa>\u001b[0m in \u001b[0;36m<module>\u001b[0;34m\u001b[0m\n\u001b[1;32m      1\u001b[0m \u001b[0;31m#missing 'author' field:\u001b[0m\u001b[0;34m\u001b[0m\u001b[0;34m\u001b[0m\u001b[0;34m\u001b[0m\u001b[0m\n\u001b[0;32m----> 2\u001b[0;31m \u001b[0mfeed\u001b[0m\u001b[0;34m[\u001b[0m\u001b[0;34m'feed'\u001b[0m\u001b[0;34m]\u001b[0m\u001b[0;34m.\u001b[0m\u001b[0mauthor\u001b[0m\u001b[0;34m\u001b[0m\u001b[0;34m\u001b[0m\u001b[0m\n\u001b[0m",
      "\u001b[0;32m~/miniconda3/envs/data_env/lib/python3.7/site-packages/feedparser.py\u001b[0m in \u001b[0;36m__getattr__\u001b[0;34m(self, key)\u001b[0m\n\u001b[1;32m    398\u001b[0m             \u001b[0;32mreturn\u001b[0m \u001b[0mself\u001b[0m\u001b[0;34m.\u001b[0m\u001b[0m__getitem__\u001b[0m\u001b[0;34m(\u001b[0m\u001b[0mkey\u001b[0m\u001b[0;34m)\u001b[0m\u001b[0;34m\u001b[0m\u001b[0;34m\u001b[0m\u001b[0m\n\u001b[1;32m    399\u001b[0m         \u001b[0;32mexcept\u001b[0m \u001b[0mKeyError\u001b[0m\u001b[0;34m:\u001b[0m\u001b[0;34m\u001b[0m\u001b[0;34m\u001b[0m\u001b[0m\n\u001b[0;32m--> 400\u001b[0;31m             \u001b[0;32mraise\u001b[0m \u001b[0mAttributeError\u001b[0m\u001b[0;34m(\u001b[0m\u001b[0;34m\"object has no attribute '%s'\"\u001b[0m \u001b[0;34m%\u001b[0m \u001b[0mkey\u001b[0m\u001b[0;34m)\u001b[0m\u001b[0;34m\u001b[0m\u001b[0;34m\u001b[0m\u001b[0m\n\u001b[0m\u001b[1;32m    401\u001b[0m \u001b[0;34m\u001b[0m\u001b[0m\n\u001b[1;32m    402\u001b[0m     \u001b[0;32mdef\u001b[0m \u001b[0m__hash__\u001b[0m\u001b[0;34m(\u001b[0m\u001b[0mself\u001b[0m\u001b[0;34m)\u001b[0m\u001b[0;34m:\u001b[0m\u001b[0;34m\u001b[0m\u001b[0;34m\u001b[0m\u001b[0m\n",
      "\u001b[0;31mAttributeError\u001b[0m: object has no attribute 'author'"
     ]
    }
   ],
   "source": [
    "#missing 'author' field:\n",
    "feed['feed'].author"
   ]
  },
  {
   "cell_type": "markdown",
   "metadata": {},
   "source": [
    "### 5. Count the number of entries that are contained in this RSS feed."
   ]
  },
  {
   "cell_type": "code",
   "execution_count": 10,
   "metadata": {},
   "outputs": [
    {
     "name": "stdout",
     "output_type": "stream",
     "text": [
      "18\n"
     ]
    }
   ],
   "source": [
    "number_of_entries = [entries for entries in feed['entries']]\n",
    "print(len(number_of_entries))"
   ]
  },
  {
   "cell_type": "markdown",
   "metadata": {},
   "source": [
    "### 6. Obtain a list of components (keys) available for an entry.\n",
    "\n",
    "*Hint: Remember to index first before requesting the keys*"
   ]
  },
  {
   "cell_type": "code",
   "execution_count": 11,
   "metadata": {},
   "outputs": [
    {
     "name": "stdout",
     "output_type": "stream",
     "text": [
      "['title', 'title_detail', 'links', 'link', 'comments', 'published', 'published_parsed', 'authors', 'author', 'author_detail', 'tags', 'id', 'guidislink', 'summary', 'summary_detail', 'content', 'wfw_commentrss', 'slash_comments', 'feedburner_origlink']\n"
     ]
    }
   ],
   "source": [
    "#option 1:\n",
    "list_components = [key for key in feed['entries'][0]]\n",
    "print(list_components)"
   ]
  },
  {
   "cell_type": "code",
   "execution_count": 12,
   "metadata": {},
   "outputs": [
    {
     "name": "stdout",
     "output_type": "stream",
     "text": [
      "['title', 'title_detail', 'links', 'link', 'comments', 'published', 'published_parsed', 'authors', 'author', 'author_detail', 'tags', 'id', 'guidislink', 'summary', 'summary_detail', 'content', 'wfw_commentrss', 'slash_comments', 'feedburner_origlink']\n"
     ]
    }
   ],
   "source": [
    " #option 2:\n",
    "print(list(feed['entries'][0].keys()))"
   ]
  },
  {
   "cell_type": "markdown",
   "metadata": {},
   "source": [
    "### 7. Extract a list of entry titles."
   ]
  },
  {
   "cell_type": "code",
   "execution_count": 13,
   "metadata": {},
   "outputs": [
    {
     "data": {
      "text/plain": [
       "['Four short links: 6 December 2019',\n",
       " 'Radar trends to watch: December 2019',\n",
       " 'Four short links: 5 December 2019',\n",
       " 'Four short links: 4 December 2019',\n",
       " 'Use your people as competitive advantage',\n",
       " 'Four short links: 3 December 2019',\n",
       " 'A 5G future',\n",
       " 'Four short links: 2 December 2019',\n",
       " 'Four short links: 29 November 2019',\n",
       " 'Four short links: 28 November 2019',\n",
       " 'Four short links: 27 November 2019',\n",
       " 'Moving AI and ML from research into production',\n",
       " 'Four short links: 26 November 2019',\n",
       " 'Four short links: 25 November 2019',\n",
       " 'Four short links: 22 November 2019',\n",
       " 'Why you should care about robotic process automation',\n",
       " 'Unraveling the mystery of code',\n",
       " 'Four short links: 21 November 2019']"
      ]
     },
     "execution_count": 13,
     "metadata": {},
     "output_type": "execute_result"
    }
   ],
   "source": [
    "#[feed.entries[i].title]\n",
    "list_entries = [feed.entries[i].title for i in range(0,len(number_of_entries))]\n",
    "list_entries"
   ]
  },
  {
   "cell_type": "markdown",
   "metadata": {},
   "source": [
    "### 8. Calculate the percentage of \"Four short links\" entry titles."
   ]
  },
  {
   "cell_type": "code",
   "execution_count": 14,
   "metadata": {},
   "outputs": [
    {
     "name": "stdout",
     "output_type": "stream",
     "text": [
      "\"Four short links\" = 66.67% of the total entry titles\n"
     ]
    }
   ],
   "source": [
    "#% of 'Four short links'\n",
    "four_shor_links = [feed.entries[i].title for i in range(0,len(number_of_entries)) if feed.entries[i].title.startswith('Four short links')]# / [feed.entries[i].title for i in range(0,len(number_of_entries))]\n",
    "\n",
    "percentage = round((len(four_shor_links)/len(list_entries))*100,2)\n",
    "\n",
    "print(f'\"Four short links\" = {percentage}% of the total entry titles')"
   ]
  },
  {
   "cell_type": "markdown",
   "metadata": {},
   "source": [
    "### 9. Create a Pandas data frame from the feed's entries."
   ]
  },
  {
   "cell_type": "code",
   "execution_count": 15,
   "metadata": {},
   "outputs": [],
   "source": [
    "import pandas as pd"
   ]
  },
  {
   "cell_type": "code",
   "execution_count": 16,
   "metadata": {},
   "outputs": [
    {
     "data": {
      "text/html": [
       "<div>\n",
       "<style scoped>\n",
       "    .dataframe tbody tr th:only-of-type {\n",
       "        vertical-align: middle;\n",
       "    }\n",
       "\n",
       "    .dataframe tbody tr th {\n",
       "        vertical-align: top;\n",
       "    }\n",
       "\n",
       "    .dataframe thead th {\n",
       "        text-align: right;\n",
       "    }\n",
       "</style>\n",
       "<table border=\"1\" class=\"dataframe\">\n",
       "  <thead>\n",
       "    <tr style=\"text-align: right;\">\n",
       "      <th></th>\n",
       "      <th>title</th>\n",
       "      <th>title_detail</th>\n",
       "      <th>links</th>\n",
       "      <th>link</th>\n",
       "      <th>comments</th>\n",
       "      <th>published</th>\n",
       "      <th>published_parsed</th>\n",
       "      <th>authors</th>\n",
       "      <th>author</th>\n",
       "      <th>author_detail</th>\n",
       "      <th>tags</th>\n",
       "      <th>id</th>\n",
       "      <th>guidislink</th>\n",
       "      <th>summary</th>\n",
       "      <th>summary_detail</th>\n",
       "      <th>content</th>\n",
       "      <th>wfw_commentrss</th>\n",
       "      <th>slash_comments</th>\n",
       "      <th>feedburner_origlink</th>\n",
       "    </tr>\n",
       "  </thead>\n",
       "  <tbody>\n",
       "    <tr>\n",
       "      <th>0</th>\n",
       "      <td>Four short links: 6 December 2019</td>\n",
       "      <td>{'type': 'text/plain', 'language': None, 'base...</td>\n",
       "      <td>[{'rel': 'alternate', 'type': 'text/html', 'hr...</td>\n",
       "      <td>http://feedproxy.google.com/~r/oreilly/radar/a...</td>\n",
       "      <td>https://www.oreilly.com/radar/four-short-links...</td>\n",
       "      <td>Fri, 06 Dec 2019 05:01:00 +0000</td>\n",
       "      <td>(2019, 12, 6, 5, 1, 0, 4, 340, 0)</td>\n",
       "      <td>[{'name': 'Nat Torkington'}]</td>\n",
       "      <td>Nat Torkington</td>\n",
       "      <td>{'name': 'Nat Torkington'}</td>\n",
       "      <td>[{'term': 'Four Short Links', 'scheme': None, ...</td>\n",
       "      <td>https://www.oreilly.com/radar/?p=11147</td>\n",
       "      <td>False</td>\n",
       "      <td>Declarative Assembly of Web Applications From ...</td>\n",
       "      <td>{'type': 'text/html', 'language': None, 'base'...</td>\n",
       "      <td>[{'type': 'text/html', 'language': None, 'base...</td>\n",
       "      <td>https://www.oreilly.com/radar/four-short-links...</td>\n",
       "      <td>0</td>\n",
       "      <td>https://www.oreilly.com/radar/four-short-links...</td>\n",
       "    </tr>\n",
       "    <tr>\n",
       "      <th>1</th>\n",
       "      <td>Radar trends to watch: December 2019</td>\n",
       "      <td>{'type': 'text/plain', 'language': None, 'base...</td>\n",
       "      <td>[{'rel': 'alternate', 'type': 'text/html', 'hr...</td>\n",
       "      <td>http://feedproxy.google.com/~r/oreilly/radar/a...</td>\n",
       "      <td>https://www.oreilly.com/radar/radar-trends-to-...</td>\n",
       "      <td>Thu, 05 Dec 2019 12:00:00 +0000</td>\n",
       "      <td>(2019, 12, 5, 12, 0, 0, 3, 339, 0)</td>\n",
       "      <td>[{'name': 'Mike Loukides'}]</td>\n",
       "      <td>Mike Loukides</td>\n",
       "      <td>{'name': 'Mike Loukides'}</td>\n",
       "      <td>[{'term': 'Radar Trends', 'scheme': None, 'lab...</td>\n",
       "      <td>https://www.oreilly.com/radar/?p=11118</td>\n",
       "      <td>False</td>\n",
       "      <td>Privacy and security trends DNS over HTTPS is ...</td>\n",
       "      <td>{'type': 'text/html', 'language': None, 'base'...</td>\n",
       "      <td>[{'type': 'text/html', 'language': None, 'base...</td>\n",
       "      <td>https://www.oreilly.com/radar/radar-trends-to-...</td>\n",
       "      <td>0</td>\n",
       "      <td>https://www.oreilly.com/radar/radar-trends-to-...</td>\n",
       "    </tr>\n",
       "    <tr>\n",
       "      <th>2</th>\n",
       "      <td>Four short links: 5 December 2019</td>\n",
       "      <td>{'type': 'text/plain', 'language': None, 'base...</td>\n",
       "      <td>[{'rel': 'alternate', 'type': 'text/html', 'hr...</td>\n",
       "      <td>http://feedproxy.google.com/~r/oreilly/radar/a...</td>\n",
       "      <td>https://www.oreilly.com/radar/four-short-links...</td>\n",
       "      <td>Thu, 05 Dec 2019 05:01:00 +0000</td>\n",
       "      <td>(2019, 12, 5, 5, 1, 0, 3, 339, 0)</td>\n",
       "      <td>[{'name': 'Nat Torkington'}]</td>\n",
       "      <td>Nat Torkington</td>\n",
       "      <td>{'name': 'Nat Torkington'}</td>\n",
       "      <td>[{'term': 'Four Short Links', 'scheme': None, ...</td>\n",
       "      <td>https://www.oreilly.com/radar/?p=11136</td>\n",
       "      <td>False</td>\n",
       "      <td>Rediscovered Incomplete Infocom Text Adventure...</td>\n",
       "      <td>{'type': 'text/html', 'language': None, 'base'...</td>\n",
       "      <td>[{'type': 'text/html', 'language': None, 'base...</td>\n",
       "      <td>https://www.oreilly.com/radar/four-short-links...</td>\n",
       "      <td>0</td>\n",
       "      <td>https://www.oreilly.com/radar/four-short-links...</td>\n",
       "    </tr>\n",
       "    <tr>\n",
       "      <th>3</th>\n",
       "      <td>Four short links: 4 December 2019</td>\n",
       "      <td>{'type': 'text/plain', 'language': None, 'base...</td>\n",
       "      <td>[{'rel': 'alternate', 'type': 'text/html', 'hr...</td>\n",
       "      <td>http://feedproxy.google.com/~r/oreilly/radar/a...</td>\n",
       "      <td>https://www.oreilly.com/radar/four-short-links...</td>\n",
       "      <td>Wed, 04 Dec 2019 05:01:00 +0000</td>\n",
       "      <td>(2019, 12, 4, 5, 1, 0, 2, 338, 0)</td>\n",
       "      <td>[{'name': 'Nat Torkington'}]</td>\n",
       "      <td>Nat Torkington</td>\n",
       "      <td>{'name': 'Nat Torkington'}</td>\n",
       "      <td>[{'term': 'Four Short Links', 'scheme': None, ...</td>\n",
       "      <td>https://www.oreilly.com/radar/?p=11129</td>\n",
       "      <td>False</td>\n",
       "      <td>The Complexity Explorer &amp;#8212; online courses...</td>\n",
       "      <td>{'type': 'text/html', 'language': None, 'base'...</td>\n",
       "      <td>[{'type': 'text/html', 'language': None, 'base...</td>\n",
       "      <td>https://www.oreilly.com/radar/four-short-links...</td>\n",
       "      <td>0</td>\n",
       "      <td>https://www.oreilly.com/radar/four-short-links...</td>\n",
       "    </tr>\n",
       "    <tr>\n",
       "      <th>4</th>\n",
       "      <td>Use your people as competitive advantage</td>\n",
       "      <td>{'type': 'text/plain', 'language': None, 'base...</td>\n",
       "      <td>[{'rel': 'alternate', 'type': 'text/html', 'hr...</td>\n",
       "      <td>http://feedproxy.google.com/~r/oreilly/radar/a...</td>\n",
       "      <td>https://www.oreilly.com/radar/use-your-people-...</td>\n",
       "      <td>Tue, 03 Dec 2019 09:00:00 +0000</td>\n",
       "      <td>(2019, 12, 3, 9, 0, 0, 1, 337, 0)</td>\n",
       "      <td>[{'name': 'Pamela Rucker'}]</td>\n",
       "      <td>Pamela Rucker</td>\n",
       "      <td>{'name': 'Pamela Rucker'}</td>\n",
       "      <td>[{'term': 'Future of the Firm', 'scheme': None...</td>\n",
       "      <td>https://www.oreilly.com/radar/?p=11068</td>\n",
       "      <td>False</td>\n",
       "      <td>In a fast-paced digital world, it is tempting ...</td>\n",
       "      <td>{'type': 'text/html', 'language': None, 'base'...</td>\n",
       "      <td>[{'type': 'text/html', 'language': None, 'base...</td>\n",
       "      <td>https://www.oreilly.com/radar/use-your-people-...</td>\n",
       "      <td>0</td>\n",
       "      <td>https://www.oreilly.com/radar/use-your-people-...</td>\n",
       "    </tr>\n",
       "  </tbody>\n",
       "</table>\n",
       "</div>"
      ],
      "text/plain": [
       "                                      title  \\\n",
       "0         Four short links: 6 December 2019   \n",
       "1      Radar trends to watch: December 2019   \n",
       "2         Four short links: 5 December 2019   \n",
       "3         Four short links: 4 December 2019   \n",
       "4  Use your people as competitive advantage   \n",
       "\n",
       "                                        title_detail  \\\n",
       "0  {'type': 'text/plain', 'language': None, 'base...   \n",
       "1  {'type': 'text/plain', 'language': None, 'base...   \n",
       "2  {'type': 'text/plain', 'language': None, 'base...   \n",
       "3  {'type': 'text/plain', 'language': None, 'base...   \n",
       "4  {'type': 'text/plain', 'language': None, 'base...   \n",
       "\n",
       "                                               links  \\\n",
       "0  [{'rel': 'alternate', 'type': 'text/html', 'hr...   \n",
       "1  [{'rel': 'alternate', 'type': 'text/html', 'hr...   \n",
       "2  [{'rel': 'alternate', 'type': 'text/html', 'hr...   \n",
       "3  [{'rel': 'alternate', 'type': 'text/html', 'hr...   \n",
       "4  [{'rel': 'alternate', 'type': 'text/html', 'hr...   \n",
       "\n",
       "                                                link  \\\n",
       "0  http://feedproxy.google.com/~r/oreilly/radar/a...   \n",
       "1  http://feedproxy.google.com/~r/oreilly/radar/a...   \n",
       "2  http://feedproxy.google.com/~r/oreilly/radar/a...   \n",
       "3  http://feedproxy.google.com/~r/oreilly/radar/a...   \n",
       "4  http://feedproxy.google.com/~r/oreilly/radar/a...   \n",
       "\n",
       "                                            comments  \\\n",
       "0  https://www.oreilly.com/radar/four-short-links...   \n",
       "1  https://www.oreilly.com/radar/radar-trends-to-...   \n",
       "2  https://www.oreilly.com/radar/four-short-links...   \n",
       "3  https://www.oreilly.com/radar/four-short-links...   \n",
       "4  https://www.oreilly.com/radar/use-your-people-...   \n",
       "\n",
       "                         published                    published_parsed  \\\n",
       "0  Fri, 06 Dec 2019 05:01:00 +0000   (2019, 12, 6, 5, 1, 0, 4, 340, 0)   \n",
       "1  Thu, 05 Dec 2019 12:00:00 +0000  (2019, 12, 5, 12, 0, 0, 3, 339, 0)   \n",
       "2  Thu, 05 Dec 2019 05:01:00 +0000   (2019, 12, 5, 5, 1, 0, 3, 339, 0)   \n",
       "3  Wed, 04 Dec 2019 05:01:00 +0000   (2019, 12, 4, 5, 1, 0, 2, 338, 0)   \n",
       "4  Tue, 03 Dec 2019 09:00:00 +0000   (2019, 12, 3, 9, 0, 0, 1, 337, 0)   \n",
       "\n",
       "                        authors          author               author_detail  \\\n",
       "0  [{'name': 'Nat Torkington'}]  Nat Torkington  {'name': 'Nat Torkington'}   \n",
       "1   [{'name': 'Mike Loukides'}]   Mike Loukides   {'name': 'Mike Loukides'}   \n",
       "2  [{'name': 'Nat Torkington'}]  Nat Torkington  {'name': 'Nat Torkington'}   \n",
       "3  [{'name': 'Nat Torkington'}]  Nat Torkington  {'name': 'Nat Torkington'}   \n",
       "4   [{'name': 'Pamela Rucker'}]   Pamela Rucker   {'name': 'Pamela Rucker'}   \n",
       "\n",
       "                                                tags  \\\n",
       "0  [{'term': 'Four Short Links', 'scheme': None, ...   \n",
       "1  [{'term': 'Radar Trends', 'scheme': None, 'lab...   \n",
       "2  [{'term': 'Four Short Links', 'scheme': None, ...   \n",
       "3  [{'term': 'Four Short Links', 'scheme': None, ...   \n",
       "4  [{'term': 'Future of the Firm', 'scheme': None...   \n",
       "\n",
       "                                       id  guidislink  \\\n",
       "0  https://www.oreilly.com/radar/?p=11147       False   \n",
       "1  https://www.oreilly.com/radar/?p=11118       False   \n",
       "2  https://www.oreilly.com/radar/?p=11136       False   \n",
       "3  https://www.oreilly.com/radar/?p=11129       False   \n",
       "4  https://www.oreilly.com/radar/?p=11068       False   \n",
       "\n",
       "                                             summary  \\\n",
       "0  Declarative Assembly of Web Applications From ...   \n",
       "1  Privacy and security trends DNS over HTTPS is ...   \n",
       "2  Rediscovered Incomplete Infocom Text Adventure...   \n",
       "3  The Complexity Explorer &#8212; online courses...   \n",
       "4  In a fast-paced digital world, it is tempting ...   \n",
       "\n",
       "                                      summary_detail  \\\n",
       "0  {'type': 'text/html', 'language': None, 'base'...   \n",
       "1  {'type': 'text/html', 'language': None, 'base'...   \n",
       "2  {'type': 'text/html', 'language': None, 'base'...   \n",
       "3  {'type': 'text/html', 'language': None, 'base'...   \n",
       "4  {'type': 'text/html', 'language': None, 'base'...   \n",
       "\n",
       "                                             content  \\\n",
       "0  [{'type': 'text/html', 'language': None, 'base...   \n",
       "1  [{'type': 'text/html', 'language': None, 'base...   \n",
       "2  [{'type': 'text/html', 'language': None, 'base...   \n",
       "3  [{'type': 'text/html', 'language': None, 'base...   \n",
       "4  [{'type': 'text/html', 'language': None, 'base...   \n",
       "\n",
       "                                      wfw_commentrss slash_comments  \\\n",
       "0  https://www.oreilly.com/radar/four-short-links...              0   \n",
       "1  https://www.oreilly.com/radar/radar-trends-to-...              0   \n",
       "2  https://www.oreilly.com/radar/four-short-links...              0   \n",
       "3  https://www.oreilly.com/radar/four-short-links...              0   \n",
       "4  https://www.oreilly.com/radar/use-your-people-...              0   \n",
       "\n",
       "                                 feedburner_origlink  \n",
       "0  https://www.oreilly.com/radar/four-short-links...  \n",
       "1  https://www.oreilly.com/radar/radar-trends-to-...  \n",
       "2  https://www.oreilly.com/radar/four-short-links...  \n",
       "3  https://www.oreilly.com/radar/four-short-links...  \n",
       "4  https://www.oreilly.com/radar/use-your-people-...  "
      ]
     },
     "execution_count": 16,
     "metadata": {},
     "output_type": "execute_result"
    }
   ],
   "source": [
    "df = pd.DataFrame(feed['entries'])\n",
    "df.head()"
   ]
  },
  {
   "cell_type": "markdown",
   "metadata": {},
   "source": [
    "### 10. Count the number of entries per author and sort them in descending order."
   ]
  },
  {
   "cell_type": "code",
   "execution_count": 17,
   "metadata": {},
   "outputs": [
    {
     "name": "stdout",
     "output_type": "stream",
     "text": [
      "Nat Torkington                                  12\n",
      "Jenn Webb                                        2\n",
      "Mike Loukides                                    2\n",
      "Sunil Ranka, Roger Magoulas and Steve Swoyer     1\n",
      "Pamela Rucker                                    1\n",
      "Name: author, dtype: int64\n"
     ]
    }
   ],
   "source": [
    "g = df['author'].value_counts().sort_values(ascending=False)\n",
    "print(g)"
   ]
  },
  {
   "cell_type": "markdown",
   "metadata": {},
   "source": [
    "### 11. Add a new column to the data frame that contains the length (number of characters) of each entry title. Return a data frame that contains the title, author, and title length of each entry in descending order (longest title length at the top)."
   ]
  },
  {
   "cell_type": "code",
   "execution_count": 18,
   "metadata": {},
   "outputs": [
    {
     "data": {
      "text/html": [
       "<div>\n",
       "<style scoped>\n",
       "    .dataframe tbody tr th:only-of-type {\n",
       "        vertical-align: middle;\n",
       "    }\n",
       "\n",
       "    .dataframe tbody tr th {\n",
       "        vertical-align: top;\n",
       "    }\n",
       "\n",
       "    .dataframe thead th {\n",
       "        text-align: right;\n",
       "    }\n",
       "</style>\n",
       "<table border=\"1\" class=\"dataframe\">\n",
       "  <thead>\n",
       "    <tr style=\"text-align: right;\">\n",
       "      <th></th>\n",
       "      <th>title</th>\n",
       "      <th>title_detail</th>\n",
       "      <th>links</th>\n",
       "      <th>link</th>\n",
       "      <th>comments</th>\n",
       "      <th>published</th>\n",
       "      <th>published_parsed</th>\n",
       "      <th>authors</th>\n",
       "      <th>author</th>\n",
       "      <th>author_detail</th>\n",
       "      <th>tags</th>\n",
       "      <th>id</th>\n",
       "      <th>guidislink</th>\n",
       "      <th>summary</th>\n",
       "      <th>summary_detail</th>\n",
       "      <th>content</th>\n",
       "      <th>wfw_commentrss</th>\n",
       "      <th>slash_comments</th>\n",
       "      <th>feedburner_origlink</th>\n",
       "      <th>title length</th>\n",
       "    </tr>\n",
       "  </thead>\n",
       "  <tbody>\n",
       "    <tr>\n",
       "      <th>0</th>\n",
       "      <td>Four short links: 6 December 2019</td>\n",
       "      <td>{'type': 'text/plain', 'language': None, 'base...</td>\n",
       "      <td>[{'rel': 'alternate', 'type': 'text/html', 'hr...</td>\n",
       "      <td>http://feedproxy.google.com/~r/oreilly/radar/a...</td>\n",
       "      <td>https://www.oreilly.com/radar/four-short-links...</td>\n",
       "      <td>Fri, 06 Dec 2019 05:01:00 +0000</td>\n",
       "      <td>(2019, 12, 6, 5, 1, 0, 4, 340, 0)</td>\n",
       "      <td>[{'name': 'Nat Torkington'}]</td>\n",
       "      <td>Nat Torkington</td>\n",
       "      <td>{'name': 'Nat Torkington'}</td>\n",
       "      <td>[{'term': 'Four Short Links', 'scheme': None, ...</td>\n",
       "      <td>https://www.oreilly.com/radar/?p=11147</td>\n",
       "      <td>False</td>\n",
       "      <td>Declarative Assembly of Web Applications From ...</td>\n",
       "      <td>{'type': 'text/html', 'language': None, 'base'...</td>\n",
       "      <td>[{'type': 'text/html', 'language': None, 'base...</td>\n",
       "      <td>https://www.oreilly.com/radar/four-short-links...</td>\n",
       "      <td>0</td>\n",
       "      <td>https://www.oreilly.com/radar/four-short-links...</td>\n",
       "      <td>33</td>\n",
       "    </tr>\n",
       "    <tr>\n",
       "      <th>1</th>\n",
       "      <td>Radar trends to watch: December 2019</td>\n",
       "      <td>{'type': 'text/plain', 'language': None, 'base...</td>\n",
       "      <td>[{'rel': 'alternate', 'type': 'text/html', 'hr...</td>\n",
       "      <td>http://feedproxy.google.com/~r/oreilly/radar/a...</td>\n",
       "      <td>https://www.oreilly.com/radar/radar-trends-to-...</td>\n",
       "      <td>Thu, 05 Dec 2019 12:00:00 +0000</td>\n",
       "      <td>(2019, 12, 5, 12, 0, 0, 3, 339, 0)</td>\n",
       "      <td>[{'name': 'Mike Loukides'}]</td>\n",
       "      <td>Mike Loukides</td>\n",
       "      <td>{'name': 'Mike Loukides'}</td>\n",
       "      <td>[{'term': 'Radar Trends', 'scheme': None, 'lab...</td>\n",
       "      <td>https://www.oreilly.com/radar/?p=11118</td>\n",
       "      <td>False</td>\n",
       "      <td>Privacy and security trends DNS over HTTPS is ...</td>\n",
       "      <td>{'type': 'text/html', 'language': None, 'base'...</td>\n",
       "      <td>[{'type': 'text/html', 'language': None, 'base...</td>\n",
       "      <td>https://www.oreilly.com/radar/radar-trends-to-...</td>\n",
       "      <td>0</td>\n",
       "      <td>https://www.oreilly.com/radar/radar-trends-to-...</td>\n",
       "      <td>36</td>\n",
       "    </tr>\n",
       "    <tr>\n",
       "      <th>2</th>\n",
       "      <td>Four short links: 5 December 2019</td>\n",
       "      <td>{'type': 'text/plain', 'language': None, 'base...</td>\n",
       "      <td>[{'rel': 'alternate', 'type': 'text/html', 'hr...</td>\n",
       "      <td>http://feedproxy.google.com/~r/oreilly/radar/a...</td>\n",
       "      <td>https://www.oreilly.com/radar/four-short-links...</td>\n",
       "      <td>Thu, 05 Dec 2019 05:01:00 +0000</td>\n",
       "      <td>(2019, 12, 5, 5, 1, 0, 3, 339, 0)</td>\n",
       "      <td>[{'name': 'Nat Torkington'}]</td>\n",
       "      <td>Nat Torkington</td>\n",
       "      <td>{'name': 'Nat Torkington'}</td>\n",
       "      <td>[{'term': 'Four Short Links', 'scheme': None, ...</td>\n",
       "      <td>https://www.oreilly.com/radar/?p=11136</td>\n",
       "      <td>False</td>\n",
       "      <td>Rediscovered Incomplete Infocom Text Adventure...</td>\n",
       "      <td>{'type': 'text/html', 'language': None, 'base'...</td>\n",
       "      <td>[{'type': 'text/html', 'language': None, 'base...</td>\n",
       "      <td>https://www.oreilly.com/radar/four-short-links...</td>\n",
       "      <td>0</td>\n",
       "      <td>https://www.oreilly.com/radar/four-short-links...</td>\n",
       "      <td>33</td>\n",
       "    </tr>\n",
       "    <tr>\n",
       "      <th>3</th>\n",
       "      <td>Four short links: 4 December 2019</td>\n",
       "      <td>{'type': 'text/plain', 'language': None, 'base...</td>\n",
       "      <td>[{'rel': 'alternate', 'type': 'text/html', 'hr...</td>\n",
       "      <td>http://feedproxy.google.com/~r/oreilly/radar/a...</td>\n",
       "      <td>https://www.oreilly.com/radar/four-short-links...</td>\n",
       "      <td>Wed, 04 Dec 2019 05:01:00 +0000</td>\n",
       "      <td>(2019, 12, 4, 5, 1, 0, 2, 338, 0)</td>\n",
       "      <td>[{'name': 'Nat Torkington'}]</td>\n",
       "      <td>Nat Torkington</td>\n",
       "      <td>{'name': 'Nat Torkington'}</td>\n",
       "      <td>[{'term': 'Four Short Links', 'scheme': None, ...</td>\n",
       "      <td>https://www.oreilly.com/radar/?p=11129</td>\n",
       "      <td>False</td>\n",
       "      <td>The Complexity Explorer &amp;#8212; online courses...</td>\n",
       "      <td>{'type': 'text/html', 'language': None, 'base'...</td>\n",
       "      <td>[{'type': 'text/html', 'language': None, 'base...</td>\n",
       "      <td>https://www.oreilly.com/radar/four-short-links...</td>\n",
       "      <td>0</td>\n",
       "      <td>https://www.oreilly.com/radar/four-short-links...</td>\n",
       "      <td>33</td>\n",
       "    </tr>\n",
       "    <tr>\n",
       "      <th>4</th>\n",
       "      <td>Use your people as competitive advantage</td>\n",
       "      <td>{'type': 'text/plain', 'language': None, 'base...</td>\n",
       "      <td>[{'rel': 'alternate', 'type': 'text/html', 'hr...</td>\n",
       "      <td>http://feedproxy.google.com/~r/oreilly/radar/a...</td>\n",
       "      <td>https://www.oreilly.com/radar/use-your-people-...</td>\n",
       "      <td>Tue, 03 Dec 2019 09:00:00 +0000</td>\n",
       "      <td>(2019, 12, 3, 9, 0, 0, 1, 337, 0)</td>\n",
       "      <td>[{'name': 'Pamela Rucker'}]</td>\n",
       "      <td>Pamela Rucker</td>\n",
       "      <td>{'name': 'Pamela Rucker'}</td>\n",
       "      <td>[{'term': 'Future of the Firm', 'scheme': None...</td>\n",
       "      <td>https://www.oreilly.com/radar/?p=11068</td>\n",
       "      <td>False</td>\n",
       "      <td>In a fast-paced digital world, it is tempting ...</td>\n",
       "      <td>{'type': 'text/html', 'language': None, 'base'...</td>\n",
       "      <td>[{'type': 'text/html', 'language': None, 'base...</td>\n",
       "      <td>https://www.oreilly.com/radar/use-your-people-...</td>\n",
       "      <td>0</td>\n",
       "      <td>https://www.oreilly.com/radar/use-your-people-...</td>\n",
       "      <td>40</td>\n",
       "    </tr>\n",
       "  </tbody>\n",
       "</table>\n",
       "</div>"
      ],
      "text/plain": [
       "                                      title  \\\n",
       "0         Four short links: 6 December 2019   \n",
       "1      Radar trends to watch: December 2019   \n",
       "2         Four short links: 5 December 2019   \n",
       "3         Four short links: 4 December 2019   \n",
       "4  Use your people as competitive advantage   \n",
       "\n",
       "                                        title_detail  \\\n",
       "0  {'type': 'text/plain', 'language': None, 'base...   \n",
       "1  {'type': 'text/plain', 'language': None, 'base...   \n",
       "2  {'type': 'text/plain', 'language': None, 'base...   \n",
       "3  {'type': 'text/plain', 'language': None, 'base...   \n",
       "4  {'type': 'text/plain', 'language': None, 'base...   \n",
       "\n",
       "                                               links  \\\n",
       "0  [{'rel': 'alternate', 'type': 'text/html', 'hr...   \n",
       "1  [{'rel': 'alternate', 'type': 'text/html', 'hr...   \n",
       "2  [{'rel': 'alternate', 'type': 'text/html', 'hr...   \n",
       "3  [{'rel': 'alternate', 'type': 'text/html', 'hr...   \n",
       "4  [{'rel': 'alternate', 'type': 'text/html', 'hr...   \n",
       "\n",
       "                                                link  \\\n",
       "0  http://feedproxy.google.com/~r/oreilly/radar/a...   \n",
       "1  http://feedproxy.google.com/~r/oreilly/radar/a...   \n",
       "2  http://feedproxy.google.com/~r/oreilly/radar/a...   \n",
       "3  http://feedproxy.google.com/~r/oreilly/radar/a...   \n",
       "4  http://feedproxy.google.com/~r/oreilly/radar/a...   \n",
       "\n",
       "                                            comments  \\\n",
       "0  https://www.oreilly.com/radar/four-short-links...   \n",
       "1  https://www.oreilly.com/radar/radar-trends-to-...   \n",
       "2  https://www.oreilly.com/radar/four-short-links...   \n",
       "3  https://www.oreilly.com/radar/four-short-links...   \n",
       "4  https://www.oreilly.com/radar/use-your-people-...   \n",
       "\n",
       "                         published                    published_parsed  \\\n",
       "0  Fri, 06 Dec 2019 05:01:00 +0000   (2019, 12, 6, 5, 1, 0, 4, 340, 0)   \n",
       "1  Thu, 05 Dec 2019 12:00:00 +0000  (2019, 12, 5, 12, 0, 0, 3, 339, 0)   \n",
       "2  Thu, 05 Dec 2019 05:01:00 +0000   (2019, 12, 5, 5, 1, 0, 3, 339, 0)   \n",
       "3  Wed, 04 Dec 2019 05:01:00 +0000   (2019, 12, 4, 5, 1, 0, 2, 338, 0)   \n",
       "4  Tue, 03 Dec 2019 09:00:00 +0000   (2019, 12, 3, 9, 0, 0, 1, 337, 0)   \n",
       "\n",
       "                        authors          author               author_detail  \\\n",
       "0  [{'name': 'Nat Torkington'}]  Nat Torkington  {'name': 'Nat Torkington'}   \n",
       "1   [{'name': 'Mike Loukides'}]   Mike Loukides   {'name': 'Mike Loukides'}   \n",
       "2  [{'name': 'Nat Torkington'}]  Nat Torkington  {'name': 'Nat Torkington'}   \n",
       "3  [{'name': 'Nat Torkington'}]  Nat Torkington  {'name': 'Nat Torkington'}   \n",
       "4   [{'name': 'Pamela Rucker'}]   Pamela Rucker   {'name': 'Pamela Rucker'}   \n",
       "\n",
       "                                                tags  \\\n",
       "0  [{'term': 'Four Short Links', 'scheme': None, ...   \n",
       "1  [{'term': 'Radar Trends', 'scheme': None, 'lab...   \n",
       "2  [{'term': 'Four Short Links', 'scheme': None, ...   \n",
       "3  [{'term': 'Four Short Links', 'scheme': None, ...   \n",
       "4  [{'term': 'Future of the Firm', 'scheme': None...   \n",
       "\n",
       "                                       id  guidislink  \\\n",
       "0  https://www.oreilly.com/radar/?p=11147       False   \n",
       "1  https://www.oreilly.com/radar/?p=11118       False   \n",
       "2  https://www.oreilly.com/radar/?p=11136       False   \n",
       "3  https://www.oreilly.com/radar/?p=11129       False   \n",
       "4  https://www.oreilly.com/radar/?p=11068       False   \n",
       "\n",
       "                                             summary  \\\n",
       "0  Declarative Assembly of Web Applications From ...   \n",
       "1  Privacy and security trends DNS over HTTPS is ...   \n",
       "2  Rediscovered Incomplete Infocom Text Adventure...   \n",
       "3  The Complexity Explorer &#8212; online courses...   \n",
       "4  In a fast-paced digital world, it is tempting ...   \n",
       "\n",
       "                                      summary_detail  \\\n",
       "0  {'type': 'text/html', 'language': None, 'base'...   \n",
       "1  {'type': 'text/html', 'language': None, 'base'...   \n",
       "2  {'type': 'text/html', 'language': None, 'base'...   \n",
       "3  {'type': 'text/html', 'language': None, 'base'...   \n",
       "4  {'type': 'text/html', 'language': None, 'base'...   \n",
       "\n",
       "                                             content  \\\n",
       "0  [{'type': 'text/html', 'language': None, 'base...   \n",
       "1  [{'type': 'text/html', 'language': None, 'base...   \n",
       "2  [{'type': 'text/html', 'language': None, 'base...   \n",
       "3  [{'type': 'text/html', 'language': None, 'base...   \n",
       "4  [{'type': 'text/html', 'language': None, 'base...   \n",
       "\n",
       "                                      wfw_commentrss slash_comments  \\\n",
       "0  https://www.oreilly.com/radar/four-short-links...              0   \n",
       "1  https://www.oreilly.com/radar/radar-trends-to-...              0   \n",
       "2  https://www.oreilly.com/radar/four-short-links...              0   \n",
       "3  https://www.oreilly.com/radar/four-short-links...              0   \n",
       "4  https://www.oreilly.com/radar/use-your-people-...              0   \n",
       "\n",
       "                                 feedburner_origlink  title length  \n",
       "0  https://www.oreilly.com/radar/four-short-links...            33  \n",
       "1  https://www.oreilly.com/radar/radar-trends-to-...            36  \n",
       "2  https://www.oreilly.com/radar/four-short-links...            33  \n",
       "3  https://www.oreilly.com/radar/four-short-links...            33  \n",
       "4  https://www.oreilly.com/radar/use-your-people-...            40  "
      ]
     },
     "execution_count": 18,
     "metadata": {},
     "output_type": "execute_result"
    }
   ],
   "source": [
    "num_characters = df['title'].str.len()\n",
    "df['title length'] = num_characters\n",
    "df.head()"
   ]
  },
  {
   "cell_type": "markdown",
   "metadata": {},
   "source": [
    "### 12. Create a list of entry titles whose summary includes the phrase \"machine learning.\""
   ]
  },
  {
   "cell_type": "code",
   "execution_count": 19,
   "metadata": {},
   "outputs": [
    {
     "data": {
      "text/plain": [
       "[False,\n",
       " False,\n",
       " False,\n",
       " False,\n",
       " False,\n",
       " False,\n",
       " False,\n",
       " False,\n",
       " False,\n",
       " False,\n",
       " False,\n",
       " True,\n",
       " False,\n",
       " False,\n",
       " False,\n",
       " False,\n",
       " False,\n",
       " False]"
      ]
     },
     "execution_count": 19,
     "metadata": {},
     "output_type": "execute_result"
    }
   ],
   "source": [
    "filter_machine_learning = list(df['summary'].str.contains(\"machine learning.\"))\n",
    "filter_machine_learning"
   ]
  },
  {
   "cell_type": "code",
   "execution_count": 20,
   "metadata": {},
   "outputs": [
    {
     "data": {
      "text/plain": [
       "['Moving AI and ML from research into production']"
      ]
     },
     "execution_count": 20,
     "metadata": {},
     "output_type": "execute_result"
    }
   ],
   "source": [
    "[df.iloc[counter,0] for counter,value in enumerate(filter_machine_learning) if value]"
   ]
  }
 ],
 "metadata": {
  "kernelspec": {
   "display_name": "Python [conda env:data_Env]",
   "language": "python",
   "name": "conda-env-data_Env-py"
  },
  "language_info": {
   "codemirror_mode": {
    "name": "ipython",
    "version": 3
   },
   "file_extension": ".py",
   "mimetype": "text/x-python",
   "name": "python",
   "nbconvert_exporter": "python",
   "pygments_lexer": "ipython3",
   "version": "3.7.5"
  }
 },
 "nbformat": 4,
 "nbformat_minor": 2
}
