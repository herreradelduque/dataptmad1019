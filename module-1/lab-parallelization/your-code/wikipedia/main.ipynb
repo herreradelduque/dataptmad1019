{
 "cells": [
  {
   "cell_type": "markdown",
   "metadata": {},
   "source": [
    "# Parallelization Lab\n",
    "\n",
    "In this lab, you will be leveraging several concepts you have learned to obtain a list of links from a web page and crawl and index the pages referenced by those links - both sequentially and in parallel. Follow the steps below to complete the lab."
   ]
  },
  {
   "cell_type": "code",
   "execution_count": 1,
   "metadata": {},
   "outputs": [],
   "source": [
    "import multiprocessing\n",
    "import re"
   ]
  },
  {
   "cell_type": "markdown",
   "metadata": {},
   "source": [
    "## Step 1: Use the requests library to retrieve the content from the URL below."
   ]
  },
  {
   "cell_type": "code",
   "execution_count": 2,
   "metadata": {},
   "outputs": [],
   "source": [
    "import requests\n",
    "\n",
    "url = 'https://en.wikipedia.org/wiki/Data_science'"
   ]
  },
  {
   "cell_type": "code",
   "execution_count": 3,
   "metadata": {},
   "outputs": [],
   "source": [
    "r = requests.get(url).content\n",
    "#r"
   ]
  },
  {
   "cell_type": "markdown",
   "metadata": {},
   "source": [
    "## Step 2: Use BeautifulSoup to extract a list of all the unique links on the page."
   ]
  },
  {
   "cell_type": "code",
   "execution_count": 4,
   "metadata": {},
   "outputs": [],
   "source": [
    "from bs4 import BeautifulSoup"
   ]
  },
  {
   "cell_type": "code",
   "execution_count": 5,
   "metadata": {
    "scrolled": true
   },
   "outputs": [
    {
     "data": {
      "text/plain": [
       "['/wiki/David_Donoho',\n",
       " '#cite_ref-BellHey2009_5-1',\n",
       " 'https://ja.wikipedia.org/wiki/%E3%83%87%E3%83%BC%E3%82%BF%E3%82%B5%E3%82%A4%E3%82%A8%E3%83%B3%E3%82%B9',\n",
       " '/wiki/Principal_component_analysis',\n",
       " '/wiki/Q-learning',\n",
       " 'https://web.archive.org/web/20080511160948/http://www.codata.org/',\n",
       " '/wiki/K-means_clustering',\n",
       " '/wiki/National_Institutes_of_Health',\n",
       " '#cite_ref-7',\n",
       " 'https://web.archive.org/web/20131029200232/http://ur.umich.edu/9899/Nov09_98/4.htm',\n",
       " '#cite_note-18',\n",
       " '/wiki/Statistician',\n",
       " '/wiki/University_of_Essex',\n",
       " '/wiki/Mean-shift',\n",
       " '/wiki/Jeffrey_T._Leek',\n",
       " '#cite_ref-ics12_14-0',\n",
       " '/wiki/Analytics',\n",
       " '/w/index.php?title=Special:CreateAccount&returnto=Data+science',\n",
       " 'https://donate.wikimedia.org/wiki/Special:FundraiserRedirector?utm_source=donate&utm_medium=sidebar&utm_campaign=C13_en.wikipedia.org&uselang=en',\n",
       " 'https://id.wikipedia.org/wiki/Ilmu_data',\n",
       " 'https://www.wikidata.org/wiki/Special:EntityPage/Q2374463',\n",
       " '/w/index.php?title=Data_science&printable=yes',\n",
       " 'https://pt.wikipedia.org/wiki/Ci%C3%AAncia_de_dados',\n",
       " '/wiki/Basic_research',\n",
       " 'https://www.nytimes.com/2009/12/15/science/15books.html',\n",
       " '/wiki/Wikipedia:Citation_needed',\n",
       " '#cite_ref-dsj02_16-0',\n",
       " '//www.worldcat.org/issn/1465-4644',\n",
       " '#cite_ref-Escoufier_8-0',\n",
       " '/wiki/Local_outlier_factor',\n",
       " '/wiki/Bias%E2%80%93variance_dilemma',\n",
       " '/wiki/Portal:Current_events',\n",
       " '/wiki/Outline_of_machine_learning',\n",
       " '#cite_ref-9',\n",
       " '/wiki/Open_science',\n",
       " '/wiki/American_Statistical_Association',\n",
       " '/wiki/Restricted_Boltzmann_machine',\n",
       " '/wiki/Category:Computational_fields_of_study',\n",
       " 'https://arxiv.org/list/cs.LG/recent',\n",
       " '//www.worldcat.org/issn/0960-3174',\n",
       " 'https://ta.wikipedia.org/wiki/%E0%AE%A4%E0%AE%B0%E0%AE%B5%E0%AF%81_%E0%AE%85%E0%AE%B1%E0%AE%BF%E0%AE%B5%E0%AE%BF%E0%AE%AF%E0%AE%B2%E0%AF%8D',\n",
       " '#cite_note-ASA-24',\n",
       " '/wiki/Wikipedia:Community_portal',\n",
       " '#cite_note-jds03-17',\n",
       " '/wiki/Category:Webarchive_template_wayback_links',\n",
       " '/wiki/Semi-supervised_learning',\n",
       " 'https://web.archive.org/web/20130703121219/http://www.nsf.gov/pubs/2005/nsb0540/',\n",
       " '//en.wikipedia.org/wiki/Wikipedia:Contact_us',\n",
       " 'https://hy.wikipedia.org/wiki/%D5%8F%D5%BE%D5%B5%D5%A1%D5%AC%D5%B6%D5%A5%D6%80%D5%AB_%D5%A3%D5%AB%D5%BF%D5%B8%D6%82%D5%A9%D5%B5%D5%B8%D6%82%D5%B6',\n",
       " 'https://my.wikipedia.org/wiki/%E1%80%A1%E1%80%81%E1%80%BB%E1%80%80%E1%80%BA%E1%80%A1%E1%80%9C%E1%80%80%E1%80%BA%E1%80%9E%E1%80%AD%E1%80%95%E1%80%B9%E1%80%95%E1%80%B6%E1%80%95%E1%80%8A%E1%80%AC',\n",
       " '/wiki/Structured_prediction',\n",
       " '#cite_ref-TansleyTolle2009_4-1',\n",
       " '/w/index.php?title=Special:ElectronPdf&page=Data+science&action=show-download-screen',\n",
       " 'https://he.wikipedia.org/wiki/%D7%9E%D7%93%D7%A2_%D7%94%D7%A0%D7%AA%D7%95%D7%A0%D7%99%D7%9D',\n",
       " '#cite_ref-:2_28-2',\n",
       " '/wiki/PubMed_Identifier',\n",
       " '/wiki/Industry',\n",
       " '#cite_ref-BellHey2009_5-0',\n",
       " 'https://foundation.wikimedia.org/wiki/Cookie_statement',\n",
       " '#cite_note-22',\n",
       " '/wiki/Talk:Data_science',\n",
       " '#cite_ref-cfjwu02_12-0',\n",
       " '/wiki/Dimensionality_reduction',\n",
       " 'https://vi.wikipedia.org/wiki/Khoa_h%E1%BB%8Dc_d%E1%BB%AF_li%E1%BB%87u',\n",
       " '#cite_note-Escoufier-8',\n",
       " '//pubmed.ncbi.nlm.nih.gov/19265007',\n",
       " '/wiki/Bootstrap_aggregating',\n",
       " 'https://web.archive.org/web/20170329172857/http://datamining.it.uts.edu.au/conferences/dsaa14/',\n",
       " '/wiki/Random_forest',\n",
       " '/wiki/Database',\n",
       " '/wiki/Turing_award',\n",
       " '#cite_ref-:2_28-0',\n",
       " '/wiki/PubMed_Central',\n",
       " 'http://euads.org',\n",
       " '/wiki/Autoencoder',\n",
       " '/wiki/International_Standard_Book_Number',\n",
       " 'https://it.wikipedia.org/wiki/Scienza_dei_dati',\n",
       " '#cite_ref-:0_1-1',\n",
       " '#cite_note-30',\n",
       " '/wiki/Multilayer_perceptron',\n",
       " '/wiki/BIRCH',\n",
       " '#cite_note-21',\n",
       " '#cite_ref-:2_28-6',\n",
       " 'https://web.archive.org/web/20131029191813/http://www.isical.ac.in/~statmath/html/pcm/pcm_recent.html',\n",
       " '/wiki/Machine_Learning_(journal)',\n",
       " 'https://books.google.com/books?id=oGs_AQAAIAAJ',\n",
       " '/wiki/New_York_University',\n",
       " 'http://courses.csail.mit.edu/18.337/2015/docs/50YearsDataScience.pdf',\n",
       " '/wiki/Interdisciplinarity',\n",
       " 'https://stats.wikimedia.org/v2/#/en.wikipedia.org',\n",
       " '#cite_ref-:2_28-7',\n",
       " 'https://web.archive.org/web/20130823091106/http://www.statisticsviews.com/details/feature/5133141/Nate-Silver-What-I-need-from-statisticians.html',\n",
       " '/wiki/Data_mining',\n",
       " '#cite_note-29',\n",
       " 'https://www.forbes.com/sites/gilpress/2013/05/28/a-very-short-history-of-data-science/',\n",
       " '/wiki/Main_Page',\n",
       " '/wiki/Wikipedia:General_disclaimer',\n",
       " '/wiki/Wikipedia:Featured_content',\n",
       " 'https://zh-yue.wikipedia.org/wiki/%E6%95%B8%E6%93%9A%E7%A7%91%E5%AD%B8',\n",
       " '/w/index.php?title=Special:Book&bookcmd=book_creator&referer=Data+science',\n",
       " '/wiki/Statistical_theory',\n",
       " '#cite_ref-:2_28-4',\n",
       " '//foundation.wikimedia.org/wiki/Privacy_policy',\n",
       " 'https://de.wikipedia.org/wiki/Data_Science',\n",
       " '//pubmed.ncbi.nlm.nih.gov/24436391',\n",
       " '#cite_ref-:0_1-0',\n",
       " 'https://web.archive.org/web/20170911223224/https://www.forbes.com/sites/gilpress/2013/05/28/a-very-short-history-of-data-science/',\n",
       " '/wiki/Anomaly_detection',\n",
       " 'https://doi.org/10.1007%2F978-4-431-65950-1_3',\n",
       " 'https://foundation.wikimedia.org/wiki/Privacy_policy',\n",
       " '#cite_note-ics12-14',\n",
       " 'http://www.dsaa.co',\n",
       " 'https://books.google.com/books?id=zdBXAQAAQBAJ&printsec=frontcover#v=onepage&q=%22data%20science%22&f=false',\n",
       " '/wiki/Feature_engineering',\n",
       " '#cite_ref-18',\n",
       " '/w/index.php?title=Data_science&action=history',\n",
       " '/wiki/Harvard_Business_Review',\n",
       " '/wiki/Empirical_risk_minimization',\n",
       " '/w/index.php?title=Data_science&action=edit&section=3',\n",
       " '#cite_ref-19',\n",
       " '/wiki/Computational_learning_theory',\n",
       " '#References',\n",
       " '/wiki/Journal_of_Machine_Learning_Research',\n",
       " '//www.wikimediafoundation.org/',\n",
       " '/wiki/Nate_Silver',\n",
       " '#cite_ref-22',\n",
       " '#cite_ref-:1_27-0',\n",
       " 'https://ko.wikipedia.org/wiki/%EB%8D%B0%EC%9D%B4%ED%84%B0_%EC%82%AC%EC%9D%B4%EC%96%B8%EC%8A%A4',\n",
       " '/wiki/Online_machine_learning',\n",
       " 'https://doi.org/10.1126%2Fscience.1170411',\n",
       " '/wiki/Relevance_vector_machine',\n",
       " '#cite_note-Hayashi-3',\n",
       " '#cite_ref-dsj12_15-0',\n",
       " '#cite_ref-6',\n",
       " '#cite_ref-25',\n",
       " 'https://cs.wikipedia.org/wiki/Data_science',\n",
       " '/wiki/DJ_Patil',\n",
       " '/wiki/Applied_science',\n",
       " '/wiki/Linear_discriminant_analysis',\n",
       " '#cite_note-6',\n",
       " 'https://web.archive.org/web/20180426153402/https://www.nytimes.com/2009/12/15/science/15books.html',\n",
       " 'https://web.archive.org/web/20141014022300/http://www2.isye.gatech.edu/~jeffwu/presentations/datascience.pdf',\n",
       " 'https://doi.org/10.1145%2F365719.366510',\n",
       " 'https://www.springer.com/41060',\n",
       " '/wiki/Factor_analysis',\n",
       " '#cite_note-dsj02-16',\n",
       " 'http://www.isical.ac.in/~statmath/html/pcm/pcm_recent.html',\n",
       " '/wiki/Deep_learning',\n",
       " '/wiki/Data_science',\n",
       " '/wiki/Hierarchical_clustering',\n",
       " 'http://www.codata.org/',\n",
       " '/wiki/Probably_approximately_correct_learning',\n",
       " 'https://web.archive.org/web/20180215023354/https://pdfs.semanticscholar.org/915c/d8e2b39eb02723553913d592b2237d4d9960.pdf',\n",
       " 'http://www.jds-online.com/v1-1',\n",
       " '#cite_note-:0-1',\n",
       " '/wiki/State%E2%80%93action%E2%80%93reward%E2%80%93state%E2%80%93action',\n",
       " '#cite_ref-cleveland01_13-1',\n",
       " '/wiki/Special:RecentChangesLinked/Data_science',\n",
       " '/wiki/Perceptron',\n",
       " '/wiki/Special:BookSources/9784431702085',\n",
       " '#cite_ref-:2_28-5',\n",
       " 'http://www.statisticsviews.com/details/feature/5133141/Nate-Silver-What-I-need-from-statisticians.html',\n",
       " '/wiki/Statistics',\n",
       " '#cite_note-32',\n",
       " '/wiki/Academic_journal',\n",
       " '//www.ncbi.nlm.nih.gov/pmc/articles/PMC4058759',\n",
       " 'https://fa.wikipedia.org/wiki/%D8%B9%D9%84%D9%85_%D8%AF%D8%A7%D8%AF%D9%87%E2%80%8C%D9%87%D8%A7',\n",
       " '#cite_ref-Harvard_20-0',\n",
       " 'https://ar.wikipedia.org/wiki/%D8%B9%D9%84%D9%85_%D8%A7%D9%84%D8%A8%D9%8A%D8%A7%D9%86%D8%A7%D8%AA',\n",
       " '#mw-head',\n",
       " 'https://doi.org/10.1126%2Fscience.1250475',\n",
       " '#cite_note-BellHey2009-5',\n",
       " '/wiki/Montpellier_2_University',\n",
       " '/wiki/Prasanta_Chandra_Mahalanobis',\n",
       " '/wiki/Methodology',\n",
       " '/wiki/Pattern_recognition',\n",
       " 'https://blogs.wsj.com/cio/2014/05/02/why-do-we-need-data-science-when-weve-had-statistics-for-centuries/',\n",
       " '/wiki/Reinforcement_learning',\n",
       " 'https://www.springer.com/book/9784431702085',\n",
       " '#cite_ref-:1_27-1',\n",
       " '/wiki/Artificial_neural_network',\n",
       " '/wiki/International_Standard_Serial_Number',\n",
       " '#cite_note-:2-28',\n",
       " '/wiki/Conference_on_Neural_Information_Processing_Systems',\n",
       " '/wiki/The_Data_Incubator',\n",
       " 'https://pdfs.semanticscholar.org/915c/d8e2b39eb02723553913d592b2237d4d9960.pdf',\n",
       " '/wiki/Explanatory_model',\n",
       " '/wiki/Information_science',\n",
       " '#cite_ref-2',\n",
       " '#p-search',\n",
       " '/wiki/Special:SpecialPages',\n",
       " '/wiki/Information_explosion',\n",
       " 'https://en.wikipedia.org/w/index.php?title=Data_science&oldid=934421711',\n",
       " '/w/index.php?title=Special:UserLogin&returnto=Data+science',\n",
       " '/wiki/Special:BookSources/0-12-241770-4',\n",
       " 'https://web.archive.org/web/20160215235820/http://venturebeat.com/2014/04/15/ny-gets-new-bootcamp-for-data-scientists-its-free-but-harder-to-get-into-than-harvard/',\n",
       " '#cite_ref-Hayashi_3-1',\n",
       " '/wiki/Cluster_analysis',\n",
       " '/wiki/K-nearest_neighbors_classification',\n",
       " '#cite_note-33',\n",
       " '/wiki/Decision_tree_learning',\n",
       " '#Relationship_to_statistics',\n",
       " '/wiki/General_Assembly_(school)',\n",
       " '#cite_ref-Hayashi_3-0',\n",
       " 'https://ca.wikipedia.org/wiki/Ci%C3%A8ncia_de_les_dades',\n",
       " '#cite_ref-cleveland01_13-0',\n",
       " '/wiki/Ensemble_learning',\n",
       " '#cite_note-:1-27',\n",
       " '/wiki/Category:Information_science',\n",
       " '/wiki/Unsupervised_learning',\n",
       " '/wiki/Help:Contents',\n",
       " '/wiki/Jim_Gray_(computer_scientist)',\n",
       " 'https://doi.org/10.1145%2F2500499',\n",
       " 'https://venturebeat.com/2014/04/15/ny-gets-new-bootcamp-for-data-scientists-its-free-but-harder-to-get-into-than-harvard/',\n",
       " '/wiki/Bayesian_network',\n",
       " '/wiki/Academy',\n",
       " '/wiki/Distributed_computing',\n",
       " 'https://eu.wikipedia.org/wiki/Datu_zientzia',\n",
       " '/wiki/Automated_machine_learning',\n",
       " '/wiki/Data_analysis',\n",
       " '#cite_note-25',\n",
       " '/w/index.php?title=Special:CiteThisPage&page=Data_science&id=934421711',\n",
       " '/wiki/Regression_analysis',\n",
       " '/wiki/Linear_regression',\n",
       " '#cite_ref-32',\n",
       " '#cite_ref-23',\n",
       " 'https://magazine.amstat.org/blog/2015/10/01/asa-statement-on-the-role-of-statistics-in-data-science/',\n",
       " '/wiki/Learning_to_rank',\n",
       " '/wiki/Special:Random',\n",
       " 'https://commons.wikimedia.org/wiki/Category:Data_science',\n",
       " '/wiki/Mathematics',\n",
       " '#cite_note-7',\n",
       " '#cite_note-31',\n",
       " '/wiki/Peter_Naur',\n",
       " 'https://web.archive.org/web/20141109113411/http://cacm.acm.org/magazines/2013/12/169933-data-science-and-prediction/fulltext',\n",
       " 'https://ru.wikipedia.org/wiki/%D0%9D%D0%B0%D1%83%D0%BA%D0%B0_%D0%BE_%D0%B4%D0%B0%D0%BD%D0%BD%D1%8B%D1%85',\n",
       " '/wiki/Discipline_(academia)',\n",
       " '#cite_ref-30',\n",
       " '//en.wikipedia.org/wiki/Wikipedia:Text_of_Creative_Commons_Attribution-ShareAlike_3.0_Unported_License',\n",
       " '/wiki/Special:RecentChanges',\n",
       " '#cite_ref-jds03_17-0',\n",
       " '/wiki/List_of_datasets_for_machine-learning_research',\n",
       " '/wiki/Jeff_Hammerbacher',\n",
       " '/w/index.php?title=Data_science&action=edit',\n",
       " '/wiki/Digital_object_identifier',\n",
       " '/wiki/DBSCAN',\n",
       " 'https://web.archive.org/web/20170205101231/http://magazine.amstat.org/blog/2016/06/01/datascience-2/',\n",
       " '/wiki/Machine_learning',\n",
       " 'https://web.archive.org/web/20160202061421/https://hbr.org/2012/10/data-scientist-the-sexiest-job-of-the-21st-century/',\n",
       " 'http://datamining.it.uts.edu.au/conferences/dsaa14/',\n",
       " '/wiki/NYU_Stern_Center_for_Business_and_Human_Rights',\n",
       " '#cite_note-2',\n",
       " '//www.worldcat.org/issn/0028-0836',\n",
       " 'http://magazine.amstat.org/blog/2016/06/01/datascience-2/',\n",
       " '/wiki/Expectation%E2%80%93maximization_algorithm',\n",
       " '/wiki/Category:Computer_occupations',\n",
       " '/wiki/Wikipedia:About',\n",
       " '/wiki/Paradigm',\n",
       " 'https://web.archive.org/web/20120822033955/http://www.jds-online.com/v1-1',\n",
       " '//shop.wikimedia.org',\n",
       " '/wiki/Special:MyContributions',\n",
       " '/wiki/Statistical_learning_theory',\n",
       " 'https://lv.wikipedia.org/wiki/Datu_m%C4%81c%C4%ABba',\n",
       " 'https://web.archive.org/web/20171124155559/https://blogs.wsj.com/cio/2014/05/02/why-do-we-need-data-science-when-weve-had-statistics-for-centuries/',\n",
       " '/wiki/Computing',\n",
       " 'http://cacm.acm.org/magazines/2013/12/169933-data-science-and-prediction/fulltext',\n",
       " '/wiki/Logistic_regression',\n",
       " 'https://web.archive.org/web/20190620184935/https://magazine.amstat.org/blog/2015/10/01/asa-statement-on-the-role-of-statistics-in-data-science/',\n",
       " '//pubmed.ncbi.nlm.nih.gov/24482835',\n",
       " 'https://hbr.org/2012/10/data-scientist-the-sexiest-job-of-the-21st-century/',\n",
       " '#cite_note-dsj12-15',\n",
       " '/wiki/Template_talk:Machine_learning_bar',\n",
       " 'https://wikimediafoundation.org/',\n",
       " '#cite_note-9',\n",
       " '/wiki/Glossary_of_artificial_intelligence',\n",
       " '/w/index.php?title=Data_science&action=edit&section=2',\n",
       " '/wiki/Special:BookSources/978-0-9825442-0-4',\n",
       " '/wiki/Category:Articles_with_unsourced_statements_from_April_2018',\n",
       " '#cite_ref-21',\n",
       " '/wiki/Special:WhatLinksHere/Data_science',\n",
       " '/wiki/Feature_learning',\n",
       " '#History',\n",
       " '/wiki/Canonical_correlation_analysis',\n",
       " '#cite_ref-TansleyTolle2009_4-0',\n",
       " '/wiki/Convolutional_neural_network',\n",
       " '/wiki/Computational_science',\n",
       " 'https://en.wikipedia.org/w/index.php?title=Template:Machine_learning_bar&action=edit',\n",
       " '#cite_ref-cfjwutk_10-1',\n",
       " 'http://www.jstage.jst.go.jp/browse/dsj/_vols',\n",
       " '/w/index.php?title=Data_science&oldid=934421711',\n",
       " 'https://www.wikidata.org/wiki/Special:EntityPage/Q2374463#sitelinks-wikipedia',\n",
       " '#cite_note-NateSilver-26',\n",
       " '/wiki/Grammar_induction',\n",
       " '#cite_ref-33',\n",
       " '/wiki/Generative_adversarial_network',\n",
       " '/wiki/Supervised_learning',\n",
       " '#cite_ref-29',\n",
       " '#cite_ref-31',\n",
       " '/w/index.php?title=Data_science&action=info',\n",
       " '/wiki/Non-negative_matrix_factorization',\n",
       " 'http://ur.umich.edu/9899/Nov09_98/4.htm',\n",
       " 'https://web.archive.org/web/20120403153707/http://www.jstage.jst.go.jp/browse/dsj/_vols',\n",
       " '/wiki/Graduate_school',\n",
       " '/wiki/DeepDream',\n",
       " '/wiki/Indian_Statistical_Institute',\n",
       " '/wiki/Wikipedia:Contents',\n",
       " '/wiki/Independent_component_analysis',\n",
       " '/wiki/Long_short-term_memory',\n",
       " '/wiki/The_Wall_Street_Journal',\n",
       " '#cite_note-Harvard-20',\n",
       " '/wiki/Knowledge',\n",
       " 'https://web.archive.org/web/20090609022730/http://www.jstage.jst.go.jp/browse/dsj/1/0/_contents',\n",
       " '/wiki/Help:Category',\n",
       " 'https://web.archive.org/web/20180619003326/http://courses.csail.mit.edu/18.337/2015/docs/50YearsDataScience.pdf',\n",
       " '/wiki/Self-organizing_map',\n",
       " 'https://web.archive.org/web/20140102194117/http://simplystatistics.org/2013/12/12/the-key-word-in-data-science-is-not-data-it-is-science/',\n",
       " '#cite_ref-NateSilver_26-0',\n",
       " '/wiki/File:Kernel_Machine.svg',\n",
       " 'https://www.mediawiki.org/wiki/Special:MyLanguage/How_to_contribute',\n",
       " '/wiki/Predictive_modelling',\n",
       " 'https://web.archive.org/web/20170320193019/https://books.google.com/books?id=oGs_AQAAIAAJ',\n",
       " '/wiki/Data_set',\n",
       " '/wiki/University_of_Michigan',\n",
       " '/wiki/Special:MyTalk',\n",
       " '/wiki/Academic_publishing',\n",
       " '/wiki/Vapnik%E2%80%93Chervonenkis_theory',\n",
       " '/wiki/Empirical_research',\n",
       " '#cite_ref-cfjwutk_10-0',\n",
       " '/wiki/C.F._Jeff_Wu',\n",
       " '/wiki/Recurrent_neural_network',\n",
       " 'https://az.wikipedia.org/wiki/Veril%C9%99nl%C9%99r_elmi_(Data_Science)',\n",
       " '/wiki/T-distributed_stochastic_neighbor_embedding',\n",
       " '/wiki/Multi-disciplinary',\n",
       " '/wiki/Wikipedia:File_Upload_Wizard',\n",
       " '/wiki/Health_science',\n",
       " '/wiki/Social_science',\n",
       " 'https://web.archive.org/web/20180323043716/http://dsaa.co/',\n",
       " 'http://www.gfkl.org/welcome/',\n",
       " '//pubmed.ncbi.nlm.nih.gov/19535325',\n",
       " 'https://doi.org/10.1007%2FBF00141776',\n",
       " '/wiki/Gated_recurrent_unit',\n",
       " 'https://zh.wikipedia.org/wiki/%E6%95%B0%E6%8D%AE%E7%A7%91%E5%AD%A6',\n",
       " '#cite_note-cfjwu01-11',\n",
       " '#cite_note-cfjwutk-10',\n",
       " 'https://doi.org/10.1093%2Fbiostatistics%2Fkxp014',\n",
       " '/wiki/Statistical_classification',\n",
       " '#cite_note-19',\n",
       " '/wiki/Thomas_H._Davenport',\n",
       " '/wiki/Temporal_difference_learning',\n",
       " '/wiki/Category:All_articles_with_unsourced_statements',\n",
       " 'https://www.mediawiki.org/',\n",
       " '/w/index.php?title=Data_science&action=edit&section=1',\n",
       " '//www.worldcat.org/issn/0362-4331',\n",
       " '#cite_note-TansleyTolle2009-4',\n",
       " '#cite_ref-cfjwu01_11-0',\n",
       " 'https://es.wikipedia.org/wiki/Ciencia_de_datos',\n",
       " '#cite_note-cfjwu02-12',\n",
       " 'http://simplystatistics.org/2013/12/12/the-key-word-in-data-science-is-not-data-it-is-science/',\n",
       " 'https://hi.wikipedia.org/wiki/%E0%A4%86%E0%A4%81%E0%A4%95%E0%A4%A1%E0%A4%BC%E0%A4%BE_%E0%A4%B5%E0%A4%BF%E0%A4%9C%E0%A5%8D%E0%A4%9E%E0%A4%BE%E0%A4%A8',\n",
       " '/wiki/Theory',\n",
       " 'https://nl.wikipedia.org/wiki/Datawetenschap',\n",
       " 'https://el.wikipedia.org/wiki/%CE%95%CF%80%CE%B9%CF%83%CF%84%CE%AE%CE%BC%CE%B7_%CE%B4%CE%B5%CE%B4%CE%BF%CE%BC%CE%AD%CE%BD%CF%89%CE%BD',\n",
       " '//creativecommons.org/licenses/by-sa/3.0/',\n",
       " '/wiki/Wayback_Machine',\n",
       " '#cite_note-23',\n",
       " '/wiki/Template:Machine_learning_bar',\n",
       " 'https://fi.wikipedia.org/wiki/Datatiede',\n",
       " '/wiki/Naive_Bayes_classifier',\n",
       " '/wiki/Computer_science',\n",
       " '#cite_note-cleveland01-13',\n",
       " '#cite_ref-:0_1-2',\n",
       " 'https://simple.wikipedia.org/wiki/Data_science',\n",
       " '//en.m.wikipedia.org/w/index.php?title=Data_science&mobileaction=toggle_view_mobile',\n",
       " '/wiki/Unstructured_data',\n",
       " '/wiki/Support-vector_machine',\n",
       " '/wiki/Conditional_random_field',\n",
       " '/wiki/International_Conference_on_Machine_Learning',\n",
       " '/wiki/Big_data',\n",
       " 'http://www.jstage.jst.go.jp/browse/dsj/1/0/_contents',\n",
       " 'http://www.nsf.gov/pubs/2005/nsb0540/',\n",
       " '/wiki/Category:Data_analysis',\n",
       " '/wiki/CURE_data_clustering_algorithm',\n",
       " '//foundation.wikimedia.org/wiki/Terms_of_Use',\n",
       " '/wiki/Boosting_(machine_learning)',\n",
       " '/wiki/K-nearest_neighbors_algorithm',\n",
       " 'https://uk.wikipedia.org/wiki/%D0%9D%D0%B0%D1%83%D0%BA%D0%B0_%D0%BF%D1%80%D0%BE_%D0%B4%D0%B0%D0%BD%D1%96',\n",
       " '#cite_ref-ASA_24-0',\n",
       " '/wiki/Association_rule_learning',\n",
       " '/wiki/U-Net',\n",
       " 'https://fr.wikipedia.org/wiki/Science_des_donn%C3%A9es',\n",
       " '/wiki/Graphical_model',\n",
       " 'https://doi.org/10.1038%2F505612a',\n",
       " '//www.worldcat.org/issn/0036-8075',\n",
       " 'http://www2.isye.gatech.edu/~jeffwu/presentations/datascience.pdf',\n",
       " '#cite_ref-:2_28-1',\n",
       " '/wiki/Hidden_Markov_model',\n",
       " '/wiki/Occam_learning',\n",
       " '/wiki/Category:Use_dmy_dates_from_December_2012',\n",
       " '#cite_ref-:2_28-3',\n",
       " 'https://ms.wikipedia.org/wiki/Sains_data',\n",
       " '/wiki/OPTICS_algorithm']"
      ]
     },
     "execution_count": 5,
     "metadata": {},
     "output_type": "execute_result"
    }
   ],
   "source": [
    "html_content = r\n",
    "soup = BeautifulSoup(html_content, 'lxml')\n",
    "#links = soup.find_all('a')\n",
    "links = [a.get('href') for a in soup.find_all('a', href=True)]  \n",
    "links = list(set(links)) #unique velues of the list\n",
    "links"
   ]
  },
  {
   "cell_type": "markdown",
   "metadata": {},
   "source": [
    "## Step 3: Use list comprehensions with conditions to clean the link list.\n",
    "\n",
    "There are two types of links, absolute and relative. Absolute links have the full URL and begin with http while relative links begin with a forward slash (/) and point to an internal page within the wikipedia.org domain. Clean the respective types of URLs as follows.\n",
    "\n",
    "- Absolute Links: Create a list of these and remove any that contain a percentage sign (%).\n",
    "- Relativel Links: Create a list of these, add the domain to the link so that you have the full URL, and remove any that contain a percentage sign (%).\n",
    "- Combine the list of absolute and relative links and ensure there are no duplicates."
   ]
  },
  {
   "cell_type": "code",
   "execution_count": 6,
   "metadata": {},
   "outputs": [],
   "source": [
    "domain = 'http://wikipedia.org'"
   ]
  },
  {
   "cell_type": "code",
   "execution_count": 7,
   "metadata": {},
   "outputs": [],
   "source": [
    "pattern = '^(http|https):'\n",
    "absolute_links = [x for x in links if re.search(pattern, x)]\n",
    "#absolute_links"
   ]
  },
  {
   "cell_type": "code",
   "execution_count": 8,
   "metadata": {},
   "outputs": [],
   "source": [
    "pattern = '^(\\/)wiki'\n",
    "relative_links = [x for x in links if '%' not in x  if re.search(pattern, x)]\n",
    "#relative_links"
   ]
  },
  {
   "cell_type": "code",
   "execution_count": 9,
   "metadata": {},
   "outputs": [],
   "source": [
    "links = [i+j for i,j in zip(absolute_links,relative_links)]\n",
    "links = list(set(links)) #unique velues of the list\n",
    "\n",
    "#links"
   ]
  },
  {
   "cell_type": "markdown",
   "metadata": {},
   "source": [
    "## Step 4: Use the os library to create a folder called *wikipedia* and make that the current working directory."
   ]
  },
  {
   "cell_type": "code",
   "execution_count": 10,
   "metadata": {},
   "outputs": [],
   "source": [
    "import os"
   ]
  },
  {
   "cell_type": "code",
   "execution_count": 11,
   "metadata": {},
   "outputs": [],
   "source": [
    "# create a folder named 'wikipedia' at cwd:\n",
    "try:\n",
    "    os.makedirs('wikipedia')\n",
    "except FileExistsError:\n",
    "    print(\"The folder '/wikipedia' already exists.\")"
   ]
  },
  {
   "cell_type": "code",
   "execution_count": 18,
   "metadata": {},
   "outputs": [
    {
     "data": {
      "text/plain": [
       "'/Users/victorgalan/ironhack/git/dataptmad1019/module-1/lab-parallelization/your-code'"
      ]
     },
     "execution_count": 18,
     "metadata": {},
     "output_type": "execute_result"
    }
   ],
   "source": [
    "cwd = os.getcwd()\n",
    "cwd"
   ]
  },
  {
   "cell_type": "code",
   "execution_count": 20,
   "metadata": {},
   "outputs": [
    {
     "name": "stdout",
     "output_type": "stream",
     "text": [
      "No se encuentra el archivo.\n"
     ]
    }
   ],
   "source": [
    "try:\n",
    "    os.replace(cwd+'/main.ipynb',cwd+'/wikipedia/main.ipynb')\n",
    "except FileNotFoundError:\n",
    "    print('No se encuentra el archivo.')"
   ]
  },
  {
   "cell_type": "code",
   "execution_count": 14,
   "metadata": {},
   "outputs": [
    {
     "data": {
      "text/plain": [
       "'/Users/victorgalan/ironhack/git/dataptmad1019/module-1/lab-parallelization/your-code'"
      ]
     },
     "execution_count": 14,
     "metadata": {},
     "output_type": "execute_result"
    }
   ],
   "source": [
    "cwd"
   ]
  },
  {
   "cell_type": "markdown",
   "metadata": {},
   "source": [
    "## Step 5: Write a function called index_page that accepts a link and does the following.\n",
    "\n",
    "- Tries to request the content of the page referenced by that link.\n",
    "- Slugifies the filename using the `slugify` function from the [python-slugify](https://pypi.org/project/python-slugify/) library and adds a .html file extension.\n",
    "    - If you don't already have the python-slugify library installed, you can pip install it as follows: `$ pip install python-slugify`.\n",
    "    - To import the slugify function, you would do the following: `from slugify import slugify`.\n",
    "    - You can then slugify a link as follows `slugify(link)`.\n",
    "- Creates a file in the wikipedia folder using the slugified filename and writes the contents of the page to the file.\n",
    "- If an exception occurs during the process above, just `pass`."
   ]
  },
  {
   "cell_type": "code",
   "execution_count": 15,
   "metadata": {},
   "outputs": [],
   "source": [
    "from slugify import slugify"
   ]
  },
  {
   "cell_type": "code",
   "execution_count": 16,
   "metadata": {},
   "outputs": [],
   "source": [
    "def index_page(link):\n",
    "    #r = requests.get(link).content\n",
    "    r = slugify(requests.get(link).content)\n",
    "    self.assertEqual(r, \".html\")\n",
    "\n",
    "\n",
    "\n",
    "#r"
   ]
  },
  {
   "cell_type": "markdown",
   "metadata": {},
   "source": [
    "## Step 6: Sequentially loop through the list of links, running the index_page function each time.\n",
    "\n",
    "Remember to include `%%time` at the beginning of the cell so that it measures the time it takes for the cell to run."
   ]
  },
  {
   "cell_type": "code",
   "execution_count": null,
   "metadata": {},
   "outputs": [],
   "source": []
  },
  {
   "cell_type": "markdown",
   "metadata": {},
   "source": [
    "## Step 7: Perform the page indexing in parallel and note the difference in performance.\n",
    "\n",
    "Remember to include `%%time` at the beginning of the cell so that it measures the time it takes for the cell to run."
   ]
  },
  {
   "cell_type": "code",
   "execution_count": 17,
   "metadata": {},
   "outputs": [],
   "source": [
    "import multiprocessing"
   ]
  },
  {
   "cell_type": "code",
   "execution_count": null,
   "metadata": {},
   "outputs": [],
   "source": []
  }
 ],
 "metadata": {
  "kernelspec": {
   "display_name": "Python [conda env:data_env]",
   "language": "python",
   "name": "conda-env-data_env-py"
  },
  "language_info": {
   "codemirror_mode": {
    "name": "ipython",
    "version": 3
   },
   "file_extension": ".py",
   "mimetype": "text/x-python",
   "name": "python",
   "nbconvert_exporter": "python",
   "pygments_lexer": "ipython3",
   "version": "3.7.5"
  }
 },
 "nbformat": 4,
 "nbformat_minor": 4
}
