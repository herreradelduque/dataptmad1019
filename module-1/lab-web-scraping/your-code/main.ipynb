{
 "cells": [
  {
   "cell_type": "markdown",
   "metadata": {},
   "source": [
    "# Web Scraping Lab\n",
    "\n",
    "You will find in this notebook some scrapy exercises to practise your scraping skills.\n",
    "\n",
    "**Tips:**\n",
    "\n",
    "- Check the response status code for each request to ensure you have obtained the intended contennt.\n",
    "- Print the response text in each request to understand the kind of info you are getting and its format.\n",
    "- Check for patterns in the response text to extract the data/info requested in each question.\n",
    "- Visit each url and take a look at its source through Chrome DevTools. You'll need to identify the html tags, special class names etc. used for the html content you are expected to extract."
   ]
  },
  {
   "cell_type": "markdown",
   "metadata": {},
   "source": [
    "- [Requests library](http://docs.python-requests.org/en/master/#the-user-guide) documentation \n",
    "- [Beautiful Soup Doc](https://www.crummy.com/software/BeautifulSoup/bs4/doc/)\n",
    "- [Urllib](https://docs.python.org/3/library/urllib.html#module-urllib)\n",
    "- [re lib](https://docs.python.org/3/library/re.html)\n",
    "- [lxml lib](https://lxml.de/)\n",
    "- [Scrapy](https://scrapy.org/)\n",
    "- [List of HTTP status codes](https://en.wikipedia.org/wiki/List_of_HTTP_status_codes)\n",
    "- [HTML basics](http://www.simplehtmlguide.com/cheatsheet.php)\n",
    "- [CSS basics](https://www.cssbasics.com/#page_start)"
   ]
  },
  {
   "cell_type": "markdown",
   "metadata": {},
   "source": [
    "#### Below are the libraries and modules you may need. `requests`,  `BeautifulSoup` and `pandas` are imported for you. If you prefer to use additional libraries feel free to uncomment them."
   ]
  },
  {
   "cell_type": "code",
   "execution_count": 43,
   "metadata": {},
   "outputs": [],
   "source": [
    "import requests\n",
    "from bs4 import BeautifulSoup\n",
    "import pandas as pd\n",
    "# from pprint import pprint\n",
    "# from lxml import html\n",
    "# from lxml.html import fromstring\n",
    "# import urllib.request\n",
    "# from urllib.request import urlopen\n",
    "# import random\n",
    "import re\n",
    "# import scrapy"
   ]
  },
  {
   "cell_type": "markdown",
   "metadata": {},
   "source": [
    "#### Download, parse (using BeautifulSoup), and print the content from the Trending Developers page from GitHub:"
   ]
  },
  {
   "cell_type": "code",
   "execution_count": 44,
   "metadata": {},
   "outputs": [],
   "source": [
    "# This is the url you will scrape in this exercise\n",
    "url = 'https://github.com/trending/developers'"
   ]
  },
  {
   "cell_type": "code",
   "execution_count": 45,
   "metadata": {},
   "outputs": [
    {
     "data": {
      "text/plain": [
       "[<meta charset=\"utf-8\"/>,\n",
       " <link href=\"https://github.githubassets.com\" rel=\"dns-prefetch\"/>,\n",
       " <link href=\"https://avatars0.githubusercontent.com\" rel=\"dns-prefetch\"/>,\n",
       " <link href=\"https://avatars1.githubusercontent.com\" rel=\"dns-prefetch\"/>,\n",
       " <link href=\"https://avatars2.githubusercontent.com\" rel=\"dns-prefetch\"/>,\n",
       " <link href=\"https://avatars3.githubusercontent.com\" rel=\"dns-prefetch\"/>,\n",
       " <link href=\"https://github-cloud.s3.amazonaws.com\" rel=\"dns-prefetch\"/>,\n",
       " <link href=\"https://user-images.githubusercontent.com/\" rel=\"dns-prefetch\"/>,\n",
       " <link crossorigin=\"anonymous\" href=\"https://github.githubassets.com/assets/frameworks-5abe724ecf200f8d9bbf52e5e4a2d7af.css\" integrity=\"sha512-Wr5yTs8gD42bv1Ll5KLXr7cXzuVcbKOcuHmifgt/6YlZuluDTyAJnfnYhNYKpgVK1F51ks8Y2QA+XENQoMp/PA==\" media=\"all\" rel=\"stylesheet\"/>,\n",
       " <link crossorigin=\"anonymous\" href=\"https://github.githubassets.com/assets/site-0e7050856189ee27195382cf843e8595.css\" integrity=\"sha512-DnBQhWGJ7icZU4LPhD6FlaZ9IrBOmbP4/4bEfpGQRbCLwutaFNqbuAaM8Y/w7IygRCMuOybM7fLDGe+UV9TEjQ==\" media=\"all\" rel=\"stylesheet\"/>,\n",
       " <link crossorigin=\"anonymous\" href=\"https://github.githubassets.com/assets/github-8d42095504ad71bfb33917b9aba4e058.css\" integrity=\"sha512-jUIJVQStcb+zORe5q6TgWKW88dk75S33s8c4AiPSrxyHFqbbtsEKpMCKA5Yal36egQMk4vruAQ8Aq054w47MYw==\" media=\"all\" rel=\"stylesheet\"/>,\n",
       " <meta content=\"width=device-width\" name=\"viewport\"/>,\n",
       " <title>Trending  developers on GitHub today · GitHub</title>,\n",
       " <meta content=\"GitHub is where people build software. More than 40 million people use GitHub to discover, fork, and contribute to over 100 million projects.\" name=\"description\"/>,\n",
       " <link href=\"/opensearch.xml\" rel=\"search\" title=\"GitHub\" type=\"application/opensearchdescription+xml\"/>,\n",
       " <link href=\"https://github.com/fluidicon.png\" rel=\"fluid-icon\" title=\"GitHub\"/>,\n",
       " <meta content=\"1401488693436528\" property=\"fb:app_id\"/>,\n",
       " <meta content=\"https://github.com\" property=\"og:url\"/>,\n",
       " <meta content=\"GitHub\" property=\"og:site_name\"/>,\n",
       " <meta content=\"Build software better, together\" property=\"og:title\"/>,\n",
       " <meta content=\"GitHub is where people build software. More than 40 million people use GitHub to discover, fork, and contribute to over 100 million projects.\" property=\"og:description\"/>,\n",
       " <meta content=\"https://github.githubassets.com/images/modules/open_graph/github-logo.png\" property=\"og:image\"/>,\n",
       " <meta content=\"image/png\" property=\"og:image:type\"/>,\n",
       " <meta content=\"1200\" property=\"og:image:width\"/>,\n",
       " <meta content=\"1200\" property=\"og:image:height\"/>,\n",
       " <meta content=\"https://github.githubassets.com/images/modules/open_graph/github-mark.png\" property=\"og:image\"/>,\n",
       " <meta content=\"image/png\" property=\"og:image:type\"/>,\n",
       " <meta content=\"1200\" property=\"og:image:width\"/>,\n",
       " <meta content=\"620\" property=\"og:image:height\"/>,\n",
       " <meta content=\"https://github.githubassets.com/images/modules/open_graph/github-octocat.png\" property=\"og:image\"/>,\n",
       " <meta content=\"image/png\" property=\"og:image:type\"/>,\n",
       " <meta content=\"1200\" property=\"og:image:width\"/>,\n",
       " <meta content=\"620\" property=\"og:image:height\"/>,\n",
       " <meta content=\"github\" property=\"twitter:site\"/>,\n",
       " <meta content=\"13334762\" property=\"twitter:site:id\"/>,\n",
       " <meta content=\"github\" property=\"twitter:creator\"/>,\n",
       " <meta content=\"13334762\" property=\"twitter:creator:id\"/>,\n",
       " <meta content=\"summary_large_image\" property=\"twitter:card\"/>,\n",
       " <meta content=\"GitHub\" property=\"twitter:title\"/>,\n",
       " <meta content=\"GitHub is where people build software. More than 40 million people use GitHub to discover, fork, and contribute to over 100 million projects.\" property=\"twitter:description\"/>,\n",
       " <meta content=\"https://github.githubassets.com/images/modules/open_graph/github-logo.png\" property=\"twitter:image:src\"/>,\n",
       " <meta content=\"1200\" property=\"twitter:image:width\"/>,\n",
       " <meta content=\"1200\" property=\"twitter:image:height\"/>,\n",
       " <link href=\"https://github.githubassets.com/\" rel=\"assets\"/>,\n",
       " <meta content=\"D35D:3F838:98DF2:D9DE5:5E399B93\" data-pjax-transient=\"true\" name=\"request-id\"/>,\n",
       " <meta content=\"14528fc3d9f120379082c2b4670c0da0cc24d0b8\" data-pjax-transient=\"true\" name=\"html-safe-nonce\"/>,\n",
       " <meta content=\"eyJyZWZlcnJlciI6bnVsbCwicmVxdWVzdF9pZCI6IkQzNUQ6M0Y4Mzg6OThERjI6RDlERTU6NUUzOTlCOTMiLCJ2aXNpdG9yX2lkIjoiMjE1NDE3MzE3NzEwODQ3MDY3NiIsInJlZ2lvbl9lZGdlIjoiYW1zIiwicmVnaW9uX3JlbmRlciI6ImlhZCJ9\" data-pjax-transient=\"true\" name=\"visitor-payload\"/>,\n",
       " <meta content=\"9f88ba1a50c8db1acae9ff4cfa21902db55d28ca8b92b24ca23d1529b9f87034\" data-pjax-transient=\"true\" name=\"visitor-hmac\"/>,\n",
       " <meta content=\"\" data-pjax-transient=\"true\" name=\"github-keyboard-shortcuts\"/>,\n",
       " <meta data-pjax-transient=\"\" name=\"selected-link\" value=\"trending_developers\"/>,\n",
       " <meta content=\"KT5gs8h0wvaagLKAVWq8bbeNwnZZK1r1XQysX3xurLU\" name=\"google-site-verification\"/>,\n",
       " <meta content=\"ZzhVyEFwb7w3e0-uOTltm8Jsck2F5StVihD0exw2fsA\" name=\"google-site-verification\"/>,\n",
       " <meta content=\"GXs5KoUUkNCoaAZn7wPN-t01Pywp9M3sEjnt_3_ZWPc\" name=\"google-site-verification\"/>,\n",
       " <meta content=\"collector.githubapp.com\" name=\"octolytics-host\"/>,\n",
       " <meta content=\"github\" name=\"octolytics-app-id\"/>,\n",
       " <meta content=\"https://collector.githubapp.com/github-external/browser_event\" name=\"octolytics-event-url\"/>,\n",
       " <meta class=\"js-octo-ga-id\" content=\"\" name=\"octolytics-dimension-ga_id\"/>,\n",
       " <meta content=\"UA-3769691-2\" name=\"google-analytics\"/>,\n",
       " <meta class=\"js-ga-set\" content=\"Logged Out\" name=\"dimension1\"/>,\n",
       " <meta content=\"github.com\" name=\"hostname\"/>,\n",
       " <meta content=\"\" name=\"user-login\"/>,\n",
       " <meta content=\"github.com\" name=\"expected-hostname\"/>,\n",
       " <meta content=\"MARKETPLACE_FEATURED_BLOG_POSTS,MARKETPLACE_INVOICED_BILLING,MARKETPLACE_SOCIAL_PROOF_CUSTOMERS,MARKETPLACE_TRENDING_SOCIAL_PROOF,MARKETPLACE_RECOMMENDATIONS,MARKETPLACE_PENDING_INSTALLATIONS,RELATED_ISSUES\" name=\"enabled-features\"/>,\n",
       " <meta content=\"479f8a97fbaa5901f7db85ebf388dbea\" http-equiv=\"x-pjax-version\"/>,\n",
       " <link crossorigin=\"anonymous\" href=\"https://github.githubassets.com/assets/site-0e7050856189ee27195382cf843e8595.css\" integrity=\"sha512-DnBQhWGJ7icZU4LPhD6FlaZ9IrBOmbP4/4bEfpGQRbCLwutaFNqbuAaM8Y/w7IygRCMuOybM7fLDGe+UV9TEjQ==\" media=\"all\" rel=\"stylesheet\"/>,\n",
       " <link data-pjax-transient=\"\" href=\"https://github.com/trending/developers\" rel=\"canonical\"/>,\n",
       " <meta content=\"https://api.github.com/_private/browser/stats\" name=\"browser-stats-url\"/>,\n",
       " <meta content=\"https://api.github.com/_private/browser/errors\" name=\"browser-errors-url\"/>,\n",
       " <link color=\"#000000\" href=\"https://github.githubassets.com/pinned-octocat.svg\" rel=\"mask-icon\"/>,\n",
       " <link class=\"js-site-favicon\" href=\"https://github.githubassets.com/favicon.ico\" rel=\"icon\" type=\"image/x-icon\"/>,\n",
       " <meta content=\"#1e2327\" name=\"theme-color\"/>,\n",
       " <link crossorigin=\"use-credentials\" href=\"/manifest.json\" rel=\"manifest\"/>]"
      ]
     },
     "execution_count": 45,
     "metadata": {},
     "output_type": "execute_result"
    }
   ],
   "source": [
    "#your code\n",
    "r = requests.get(url)\n",
    "\n",
    "data = r.text\n",
    "\n",
    "soup = BeautifulSoup(data, 'lxml')\n",
    "\n",
    "soup.head()"
   ]
  },
  {
   "cell_type": "markdown",
   "metadata": {},
   "source": [
    "#### Display the names of the trending developers retrieved in the previous step.\n",
    "\n",
    "Your output should be a Python list of developer names. Each name should not contain any html tag.\n",
    "\n",
    "**Instructions:**\n",
    "\n",
    "1. Find out the html tag and class names used for the developer names. You can achieve this using Chrome DevTools.\n",
    "\n",
    "1. Use BeautifulSoup to extract all the html elements that contain the developer names.\n",
    "\n",
    "1. Use string manipulation techniques to replace whitespaces and linebreaks (i.e. `\\n`) in the *text* of each html element. Use a list to store the clean names.\n",
    "\n",
    "1. Print the list of names.\n",
    "\n",
    "Your output should look like below:\n",
    "\n",
    "```\n",
    "['trimstray (@trimstray)',\n",
    " 'joewalnes (JoeWalnes)',\n",
    " 'charlax (Charles-AxelDein)',\n",
    " 'ForrestKnight (ForrestKnight)',\n",
    " 'revery-ui (revery-ui)',\n",
    " 'alibaba (Alibaba)',\n",
    " 'Microsoft (Microsoft)',\n",
    " 'github (GitHub)',\n",
    " 'facebook (Facebook)',\n",
    " 'boazsegev (Bo)',\n",
    " 'google (Google)',\n",
    " 'cloudfetch',\n",
    " 'sindresorhus (SindreSorhus)',\n",
    " 'tensorflow',\n",
    " 'apache (TheApacheSoftwareFoundation)',\n",
    " 'DevonCrawford (DevonCrawford)',\n",
    " 'ARMmbed (ArmMbed)',\n",
    " 'vuejs (vuejs)',\n",
    " 'fastai (fast.ai)',\n",
    " 'QiShaoXuan (Qi)',\n",
    " 'joelparkerhenderson (JoelParkerHenderson)',\n",
    " 'torvalds (LinusTorvalds)',\n",
    " 'CyC2018',\n",
    " 'komeiji-satori (神楽坂覚々)',\n",
    " 'script-8']\n",
    " ```"
   ]
  },
  {
   "cell_type": "code",
   "execution_count": 52,
   "metadata": {},
   "outputs": [
    {
     "data": {
      "text/plain": [
       "['dsherret',\n",
       " 'nunomaduro',\n",
       " 'devongovett',\n",
       " 'LinusU',\n",
       " 'giampaolo',\n",
       " 'borkdude',\n",
       " 'zkat',\n",
       " 'MikeMcQuaid',\n",
       " 'jeremybarbet',\n",
       " 'barryvdh',\n",
       " 'bflad',\n",
       " 'jstedfast',\n",
       " 'nornagon',\n",
       " 'styfle',\n",
       " 'noraj',\n",
       " 'tomaka',\n",
       " 'rmosolgo',\n",
       " 'hrydgard',\n",
       " 'Rich-Harris',\n",
       " 'kyleconroy',\n",
       " 'frenck',\n",
       " 'abhiomkar',\n",
       " 'fzaninotto',\n",
       " 'rwightman']"
      ]
     },
     "execution_count": 52,
     "metadata": {},
     "output_type": "execute_result"
    }
   ],
   "source": [
    "#your code\n",
    "\n",
    "developers_ = soup.find_all(class_=\"h3 lh-condensed\")\n",
    "# developers_\n",
    "# tags = [tag['href'] for tag in developers]\n",
    "# tags\n",
    "\n",
    "anchors = soup.find_all('a', {'class': 'link-gray', 'href': True})\n",
    "\n",
    "# for anchor in anchors:\n",
    "#     print (anchor['href'])\n",
    "lista_gral = [anchor['href'] for anchor in anchors]\n",
    "lista_clean = lista_gral[18:42]\n",
    "lista_clean\n",
    "\n",
    "developers = []\n",
    "for k in range(0, len(lista_clean)):\n",
    "    developers.append(re.sub('/','',lista_clean[k]))\n",
    "developers\n"
   ]
  },
  {
   "cell_type": "code",
   "execution_count": 69,
   "metadata": {},
   "outputs": [
    {
     "data": {
      "text/plain": [
       "['David Sherret',\n",
       " 'Nuno Maduro',\n",
       " 'Devon Govett',\n",
       " 'Linus Unnebäck',\n",
       " \"Giampaolo Rodola'\",\n",
       " 'Michiel Borkent',\n",
       " 'Kat Marchán',\n",
       " 'Mike McQuaid',\n",
       " 'Jérémy Barbet',\n",
       " 'Barry vd. Heuvel',\n",
       " 'Brian Flad',\n",
       " 'Jeffrey Stedfast',\n",
       " 'Jeremy Apthorp',\n",
       " 'Steven',\n",
       " 'Alexandre ZANNI',\n",
       " 'Pierre Krieger',\n",
       " 'Robert Mosolgo',\n",
       " 'Henrik Rydgård',\n",
       " 'Rich Harris',\n",
       " 'Kyle Conroy',\n",
       " 'Franck Nijhof',\n",
       " 'Abhinay Omkar',\n",
       " 'Francois Zaninotto',\n",
       " 'Ross Wightman',\n",
       " 'John Howard']"
      ]
     },
     "execution_count": 69,
     "metadata": {},
     "output_type": "execute_result"
    }
   ],
   "source": [
    "name_dev =  soup.find_all(class_='h3 lh-condensed')\n",
    "\n",
    "names_name_list = [i.getText().strip() for i in name_dev]\n",
    "\n",
    "names_name_list"
   ]
  },
  {
   "cell_type": "code",
   "execution_count": 81,
   "metadata": {},
   "outputs": [
    {
     "data": {
      "text/plain": [
       "['dsherret (David Sherret)',\n",
       " 'nunomaduro (Nuno Maduro)',\n",
       " 'devongovett (Devon Govett)',\n",
       " 'LinusU (Linus Unnebäck)',\n",
       " \"giampaolo (Giampaolo Rodola')\",\n",
       " 'borkdude (Michiel Borkent)',\n",
       " 'zkat (Kat Marchán)',\n",
       " 'MikeMcQuaid (Mike McQuaid)',\n",
       " 'jeremybarbet (Jérémy Barbet)',\n",
       " 'barryvdh (Barry vd. Heuvel)',\n",
       " 'bflad (Brian Flad)',\n",
       " 'jstedfast (Jeffrey Stedfast)',\n",
       " 'nornagon (Jeremy Apthorp)',\n",
       " 'styfle (Steven)',\n",
       " 'noraj (Alexandre ZANNI)',\n",
       " 'tomaka (Pierre Krieger)',\n",
       " 'rmosolgo (Robert Mosolgo)',\n",
       " 'hrydgard (Henrik Rydgård)',\n",
       " 'Rich-Harris (Rich Harris)',\n",
       " 'kyleconroy (Kyle Conroy)',\n",
       " 'frenck (Franck Nijhof)',\n",
       " 'abhiomkar (Abhinay Omkar)',\n",
       " 'fzaninotto (Francois Zaninotto)',\n",
       " 'rwightman (Ross Wightman)']"
      ]
     },
     "execution_count": 81,
     "metadata": {},
     "output_type": "execute_result"
    }
   ],
   "source": [
    "final_list =[developers[i] + ' (' + names_name_list[i]+')' for i in range (0, len(developers))]\n",
    "final_list"
   ]
  },
  {
   "cell_type": "markdown",
   "metadata": {},
   "source": [
    "#### Display the trending Python repositories in GitHub\n",
    "\n",
    "The steps to solve this problem is similar to the previous one except that you need to find out the repository names instead of developer names."
   ]
  },
  {
   "cell_type": "code",
   "execution_count": 83,
   "metadata": {},
   "outputs": [],
   "source": [
    "# This is the url you will scrape in this exercise\n",
    "url = 'https://github.com/trending/python?since=daily'"
   ]
  },
  {
   "cell_type": "code",
   "execution_count": 94,
   "metadata": {},
   "outputs": [
    {
     "data": {
      "text/plain": [
       "[<meta charset=\"utf-8\"/>,\n",
       " <link href=\"https://github.githubassets.com\" rel=\"dns-prefetch\"/>,\n",
       " <link href=\"https://avatars0.githubusercontent.com\" rel=\"dns-prefetch\"/>,\n",
       " <link href=\"https://avatars1.githubusercontent.com\" rel=\"dns-prefetch\"/>,\n",
       " <link href=\"https://avatars2.githubusercontent.com\" rel=\"dns-prefetch\"/>,\n",
       " <link href=\"https://avatars3.githubusercontent.com\" rel=\"dns-prefetch\"/>,\n",
       " <link href=\"https://github-cloud.s3.amazonaws.com\" rel=\"dns-prefetch\"/>,\n",
       " <link href=\"https://user-images.githubusercontent.com/\" rel=\"dns-prefetch\"/>,\n",
       " <link crossorigin=\"anonymous\" href=\"https://github.githubassets.com/assets/frameworks-5abe724ecf200f8d9bbf52e5e4a2d7af.css\" integrity=\"sha512-Wr5yTs8gD42bv1Ll5KLXr7cXzuVcbKOcuHmifgt/6YlZuluDTyAJnfnYhNYKpgVK1F51ks8Y2QA+XENQoMp/PA==\" media=\"all\" rel=\"stylesheet\"/>,\n",
       " <link crossorigin=\"anonymous\" href=\"https://github.githubassets.com/assets/site-0e7050856189ee27195382cf843e8595.css\" integrity=\"sha512-DnBQhWGJ7icZU4LPhD6FlaZ9IrBOmbP4/4bEfpGQRbCLwutaFNqbuAaM8Y/w7IygRCMuOybM7fLDGe+UV9TEjQ==\" media=\"all\" rel=\"stylesheet\"/>,\n",
       " <link crossorigin=\"anonymous\" href=\"https://github.githubassets.com/assets/github-8d42095504ad71bfb33917b9aba4e058.css\" integrity=\"sha512-jUIJVQStcb+zORe5q6TgWKW88dk75S33s8c4AiPSrxyHFqbbtsEKpMCKA5Yal36egQMk4vruAQ8Aq054w47MYw==\" media=\"all\" rel=\"stylesheet\"/>,\n",
       " <meta content=\"width=device-width\" name=\"viewport\"/>,\n",
       " <title>Trending Python repositories on GitHub today · GitHub</title>,\n",
       " <meta content=\"GitHub is where people build software. More than 40 million people use GitHub to discover, fork, and contribute to over 100 million projects.\" name=\"description\"/>,\n",
       " <link href=\"/opensearch.xml\" rel=\"search\" title=\"GitHub\" type=\"application/opensearchdescription+xml\"/>,\n",
       " <link href=\"https://github.com/fluidicon.png\" rel=\"fluid-icon\" title=\"GitHub\"/>,\n",
       " <meta content=\"1401488693436528\" property=\"fb:app_id\"/>,\n",
       " <meta content=\"https://github.com\" property=\"og:url\"/>,\n",
       " <meta content=\"GitHub\" property=\"og:site_name\"/>,\n",
       " <meta content=\"Build software better, together\" property=\"og:title\"/>,\n",
       " <meta content=\"GitHub is where people build software. More than 40 million people use GitHub to discover, fork, and contribute to over 100 million projects.\" property=\"og:description\"/>,\n",
       " <meta content=\"https://github.githubassets.com/images/modules/open_graph/github-logo.png\" property=\"og:image\"/>,\n",
       " <meta content=\"image/png\" property=\"og:image:type\"/>,\n",
       " <meta content=\"1200\" property=\"og:image:width\"/>,\n",
       " <meta content=\"1200\" property=\"og:image:height\"/>,\n",
       " <meta content=\"https://github.githubassets.com/images/modules/open_graph/github-mark.png\" property=\"og:image\"/>,\n",
       " <meta content=\"image/png\" property=\"og:image:type\"/>,\n",
       " <meta content=\"1200\" property=\"og:image:width\"/>,\n",
       " <meta content=\"620\" property=\"og:image:height\"/>,\n",
       " <meta content=\"https://github.githubassets.com/images/modules/open_graph/github-octocat.png\" property=\"og:image\"/>,\n",
       " <meta content=\"image/png\" property=\"og:image:type\"/>,\n",
       " <meta content=\"1200\" property=\"og:image:width\"/>,\n",
       " <meta content=\"620\" property=\"og:image:height\"/>,\n",
       " <meta content=\"github\" property=\"twitter:site\"/>,\n",
       " <meta content=\"13334762\" property=\"twitter:site:id\"/>,\n",
       " <meta content=\"github\" property=\"twitter:creator\"/>,\n",
       " <meta content=\"13334762\" property=\"twitter:creator:id\"/>,\n",
       " <meta content=\"summary_large_image\" property=\"twitter:card\"/>,\n",
       " <meta content=\"GitHub\" property=\"twitter:title\"/>,\n",
       " <meta content=\"GitHub is where people build software. More than 40 million people use GitHub to discover, fork, and contribute to over 100 million projects.\" property=\"twitter:description\"/>,\n",
       " <meta content=\"https://github.githubassets.com/images/modules/open_graph/github-logo.png\" property=\"twitter:image:src\"/>,\n",
       " <meta content=\"1200\" property=\"twitter:image:width\"/>,\n",
       " <meta content=\"1200\" property=\"twitter:image:height\"/>,\n",
       " <link href=\"https://github.githubassets.com/\" rel=\"assets\"/>,\n",
       " <meta content=\"C168:1DAE4:161875:1F8CEA:5E39A6D0\" data-pjax-transient=\"true\" name=\"request-id\"/>,\n",
       " <meta content=\"a289364757d97cd1b427cc84f8f58577fbc31e8e\" data-pjax-transient=\"true\" name=\"html-safe-nonce\"/>,\n",
       " <meta content=\"eyJyZWZlcnJlciI6bnVsbCwicmVxdWVzdF9pZCI6IkMxNjg6MURBRTQ6MTYxODc1OjFGOENFQTo1RTM5QTZEMCIsInZpc2l0b3JfaWQiOiI3NDAzNDQzMjg5NTgxMDA0NDk3IiwicmVnaW9uX2VkZ2UiOiJhbXMiLCJyZWdpb25fcmVuZGVyIjoiaWFkIn0=\" data-pjax-transient=\"true\" name=\"visitor-payload\"/>,\n",
       " <meta content=\"e3cdf4a1a03bf4c229de5c8b5172e08f75afb8a5ffc53f6934bc4e1f89f61ff8\" data-pjax-transient=\"true\" name=\"visitor-hmac\"/>,\n",
       " <meta content=\"\" data-pjax-transient=\"true\" name=\"github-keyboard-shortcuts\"/>,\n",
       " <meta data-pjax-transient=\"\" name=\"selected-link\" value=\"trending_repositories\"/>,\n",
       " <meta content=\"KT5gs8h0wvaagLKAVWq8bbeNwnZZK1r1XQysX3xurLU\" name=\"google-site-verification\"/>,\n",
       " <meta content=\"ZzhVyEFwb7w3e0-uOTltm8Jsck2F5StVihD0exw2fsA\" name=\"google-site-verification\"/>,\n",
       " <meta content=\"GXs5KoUUkNCoaAZn7wPN-t01Pywp9M3sEjnt_3_ZWPc\" name=\"google-site-verification\"/>,\n",
       " <meta content=\"collector.githubapp.com\" name=\"octolytics-host\"/>,\n",
       " <meta content=\"github\" name=\"octolytics-app-id\"/>,\n",
       " <meta content=\"https://collector.githubapp.com/github-external/browser_event\" name=\"octolytics-event-url\"/>,\n",
       " <meta class=\"js-octo-ga-id\" content=\"\" name=\"octolytics-dimension-ga_id\"/>,\n",
       " <meta content=\"UA-3769691-2\" name=\"google-analytics\"/>,\n",
       " <meta class=\"js-ga-set\" content=\"Logged Out\" name=\"dimension1\"/>,\n",
       " <meta content=\"github.com\" name=\"hostname\"/>,\n",
       " <meta content=\"\" name=\"user-login\"/>,\n",
       " <meta content=\"github.com\" name=\"expected-hostname\"/>,\n",
       " <meta content=\"MARKETPLACE_FEATURED_BLOG_POSTS,MARKETPLACE_INVOICED_BILLING,MARKETPLACE_SOCIAL_PROOF_CUSTOMERS,MARKETPLACE_TRENDING_SOCIAL_PROOF,MARKETPLACE_RECOMMENDATIONS,MARKETPLACE_PENDING_INSTALLATIONS,RELATED_ISSUES\" name=\"enabled-features\"/>,\n",
       " <meta content=\"479f8a97fbaa5901f7db85ebf388dbea\" http-equiv=\"x-pjax-version\"/>,\n",
       " <link crossorigin=\"anonymous\" href=\"https://github.githubassets.com/assets/site-0e7050856189ee27195382cf843e8595.css\" integrity=\"sha512-DnBQhWGJ7icZU4LPhD6FlaZ9IrBOmbP4/4bEfpGQRbCLwutaFNqbuAaM8Y/w7IygRCMuOybM7fLDGe+UV9TEjQ==\" media=\"all\" rel=\"stylesheet\"/>,\n",
       " <link data-pjax-transient=\"\" href=\"https://github.com/trending/python\" rel=\"canonical\"/>,\n",
       " <meta content=\"https://api.github.com/_private/browser/stats\" name=\"browser-stats-url\"/>,\n",
       " <meta content=\"https://api.github.com/_private/browser/errors\" name=\"browser-errors-url\"/>,\n",
       " <link color=\"#000000\" href=\"https://github.githubassets.com/pinned-octocat.svg\" rel=\"mask-icon\"/>,\n",
       " <link class=\"js-site-favicon\" href=\"https://github.githubassets.com/favicon.ico\" rel=\"icon\" type=\"image/x-icon\"/>,\n",
       " <meta content=\"#1e2327\" name=\"theme-color\"/>,\n",
       " <link crossorigin=\"use-credentials\" href=\"/manifest.json\" rel=\"manifest\"/>]"
      ]
     },
     "execution_count": 94,
     "metadata": {},
     "output_type": "execute_result"
    }
   ],
   "source": [
    "#your code\n",
    "r = requests.get(url)\n",
    "\n",
    "data = r.text\n",
    "\n",
    "soup = BeautifulSoup(data, 'lxml')\n",
    "\n",
    "soup.head()"
   ]
  },
  {
   "cell_type": "code",
   "execution_count": 95,
   "metadata": {},
   "outputs": [
    {
     "ename": "IndexError",
     "evalue": "list index out of range",
     "output_type": "error",
     "traceback": [
      "\u001b[0;31m---------------------------------------------------------------------------\u001b[0m",
      "\u001b[0;31mIndexError\u001b[0m                                Traceback (most recent call last)",
      "\u001b[0;32m<ipython-input-95-dab30066d31e>\u001b[0m in \u001b[0;36m<module>\u001b[0;34m\u001b[0m\n\u001b[1;32m     20\u001b[0m \u001b[0;31m# names_name_list\u001b[0m\u001b[0;34m\u001b[0m\u001b[0;34m\u001b[0m\u001b[0;34m\u001b[0m\u001b[0m\n\u001b[1;32m     21\u001b[0m \u001b[0;34m\u001b[0m\u001b[0m\n\u001b[0;32m---> 22\u001b[0;31m \u001b[0mfinal_list\u001b[0m \u001b[0;34m=\u001b[0m\u001b[0;34m[\u001b[0m\u001b[0mdevelopers\u001b[0m\u001b[0;34m[\u001b[0m\u001b[0mi\u001b[0m\u001b[0;34m]\u001b[0m \u001b[0;34m+\u001b[0m \u001b[0;34m' ('\u001b[0m \u001b[0;34m+\u001b[0m \u001b[0mnames_name_list\u001b[0m\u001b[0;34m[\u001b[0m\u001b[0mi\u001b[0m\u001b[0;34m]\u001b[0m\u001b[0;34m+\u001b[0m\u001b[0;34m')'\u001b[0m \u001b[0;32mfor\u001b[0m \u001b[0mi\u001b[0m \u001b[0;32min\u001b[0m \u001b[0mrange\u001b[0m \u001b[0;34m(\u001b[0m\u001b[0;36m0\u001b[0m\u001b[0;34m,\u001b[0m \u001b[0mlen\u001b[0m\u001b[0;34m(\u001b[0m\u001b[0mdevelopers\u001b[0m\u001b[0;34m)\u001b[0m\u001b[0;34m)\u001b[0m\u001b[0;34m]\u001b[0m\u001b[0;34m\u001b[0m\u001b[0;34m\u001b[0m\u001b[0m\n\u001b[0m\u001b[1;32m     23\u001b[0m \u001b[0mfinal_list\u001b[0m\u001b[0;34m\u001b[0m\u001b[0;34m\u001b[0m\u001b[0m\n",
      "\u001b[0;32m<ipython-input-95-dab30066d31e>\u001b[0m in \u001b[0;36m<listcomp>\u001b[0;34m(.0)\u001b[0m\n\u001b[1;32m     20\u001b[0m \u001b[0;31m# names_name_list\u001b[0m\u001b[0;34m\u001b[0m\u001b[0;34m\u001b[0m\u001b[0;34m\u001b[0m\u001b[0m\n\u001b[1;32m     21\u001b[0m \u001b[0;34m\u001b[0m\u001b[0m\n\u001b[0;32m---> 22\u001b[0;31m \u001b[0mfinal_list\u001b[0m \u001b[0;34m=\u001b[0m\u001b[0;34m[\u001b[0m\u001b[0mdevelopers\u001b[0m\u001b[0;34m[\u001b[0m\u001b[0mi\u001b[0m\u001b[0;34m]\u001b[0m \u001b[0;34m+\u001b[0m \u001b[0;34m' ('\u001b[0m \u001b[0;34m+\u001b[0m \u001b[0mnames_name_list\u001b[0m\u001b[0;34m[\u001b[0m\u001b[0mi\u001b[0m\u001b[0;34m]\u001b[0m\u001b[0;34m+\u001b[0m\u001b[0;34m')'\u001b[0m \u001b[0;32mfor\u001b[0m \u001b[0mi\u001b[0m \u001b[0;32min\u001b[0m \u001b[0mrange\u001b[0m \u001b[0;34m(\u001b[0m\u001b[0;36m0\u001b[0m\u001b[0;34m,\u001b[0m \u001b[0mlen\u001b[0m\u001b[0;34m(\u001b[0m\u001b[0mdevelopers\u001b[0m\u001b[0;34m)\u001b[0m\u001b[0;34m)\u001b[0m\u001b[0;34m]\u001b[0m\u001b[0;34m\u001b[0m\u001b[0;34m\u001b[0m\u001b[0m\n\u001b[0m\u001b[1;32m     23\u001b[0m \u001b[0mfinal_list\u001b[0m\u001b[0;34m\u001b[0m\u001b[0;34m\u001b[0m\u001b[0m\n",
      "\u001b[0;31mIndexError\u001b[0m: list index out of range"
     ]
    }
   ],
   "source": [
    "developers_ = soup_1.find_all(class_=\"h3 lh-condensed\")\n",
    "\n",
    "\n",
    "anchors = soup_1.find_all('a', {'class': 'link-gray', 'href': True})\n",
    "\n",
    "\n",
    "lista_gral = [anchor['href'] for anchor in anchors]\n",
    "lista_clean = lista_gral[0:420]\n",
    "#lista_clean\n",
    "\n",
    "developers = []\n",
    "for k in range(0, len(lista_clean)):\n",
    "    developers.append(re.sub('/','',lista_clean[k]))\n",
    "# developers\n",
    "\n",
    "name_dev =  soup.find_all(class_='h3 lh-condensed')\n",
    "\n",
    "names_name_list = [i.getText().strip() for i in name_dev]\n",
    "\n",
    "# names_name_list\n",
    "\n",
    "final_list =[developers[i] + ' (' + names_name_list[i]+')' for i in range (0, len(developers))]\n",
    "final_list"
   ]
  },
  {
   "cell_type": "markdown",
   "metadata": {},
   "source": [
    "#### Display all the image links from Walt Disney wikipedia page"
   ]
  },
  {
   "cell_type": "code",
   "execution_count": null,
   "metadata": {},
   "outputs": [],
   "source": [
    "# This is the url you will scrape in this exercise\n",
    "url = 'https://en.wikipedia.org/wiki/Walt_Disney'"
   ]
  },
  {
   "cell_type": "code",
   "execution_count": null,
   "metadata": {},
   "outputs": [],
   "source": [
    "#your code"
   ]
  },
  {
   "cell_type": "markdown",
   "metadata": {},
   "source": [
    "#### Retrieve an arbitary Wikipedia page of \"Python\" and create a list of links on that page"
   ]
  },
  {
   "cell_type": "code",
   "execution_count": null,
   "metadata": {},
   "outputs": [],
   "source": [
    "# This is the url you will scrape in this exercise\n",
    "url ='https://en.wikipedia.org/wiki/Python' "
   ]
  },
  {
   "cell_type": "code",
   "execution_count": null,
   "metadata": {},
   "outputs": [],
   "source": [
    "#your code"
   ]
  },
  {
   "cell_type": "markdown",
   "metadata": {},
   "source": [
    "#### Number of Titles that have changed in the United States Code since its last release point "
   ]
  },
  {
   "cell_type": "code",
   "execution_count": null,
   "metadata": {},
   "outputs": [],
   "source": [
    "# This is the url you will scrape in this exercise\n",
    "url = 'http://uscode.house.gov/download/download.shtml'"
   ]
  },
  {
   "cell_type": "code",
   "execution_count": null,
   "metadata": {},
   "outputs": [],
   "source": [
    "#your code"
   ]
  },
  {
   "cell_type": "markdown",
   "metadata": {},
   "source": [
    "#### A Python list with the top ten FBI's Most Wanted names "
   ]
  },
  {
   "cell_type": "code",
   "execution_count": null,
   "metadata": {},
   "outputs": [],
   "source": [
    "# This is the url you will scrape in this exercise\n",
    "url = 'https://www.fbi.gov/wanted/topten'"
   ]
  },
  {
   "cell_type": "code",
   "execution_count": null,
   "metadata": {},
   "outputs": [],
   "source": [
    "#your code "
   ]
  },
  {
   "cell_type": "markdown",
   "metadata": {},
   "source": [
    "####  20 latest earthquakes info (date, time, latitude, longitude and region name) by the EMSC as a pandas dataframe"
   ]
  },
  {
   "cell_type": "code",
   "execution_count": null,
   "metadata": {},
   "outputs": [],
   "source": [
    "# This is the url you will scrape in this exercise\n",
    "url = 'https://www.emsc-csem.org/Earthquake/'"
   ]
  },
  {
   "cell_type": "code",
   "execution_count": null,
   "metadata": {},
   "outputs": [],
   "source": [
    "#your code"
   ]
  },
  {
   "cell_type": "markdown",
   "metadata": {},
   "source": [
    "#### Display the date, days, title, city, country of next 25 hackathon events as a Pandas dataframe table"
   ]
  },
  {
   "cell_type": "code",
   "execution_count": null,
   "metadata": {},
   "outputs": [],
   "source": [
    "# This is the url you will scrape in this exercise\n",
    "url ='https://hackevents.co/hackathons'"
   ]
  },
  {
   "cell_type": "code",
   "execution_count": null,
   "metadata": {},
   "outputs": [],
   "source": [
    "#your code"
   ]
  },
  {
   "cell_type": "markdown",
   "metadata": {},
   "source": [
    "#### Count number of tweets by a given Twitter account."
   ]
  },
  {
   "cell_type": "markdown",
   "metadata": {},
   "source": [
    "You will need to include a ***try/except block*** for account names not found. \n",
    "<br>***Hint:*** the program should count the number of tweets for any provided account"
   ]
  },
  {
   "cell_type": "code",
   "execution_count": null,
   "metadata": {},
   "outputs": [],
   "source": [
    "# This is the url you will scrape in this exercise \n",
    "# You will need to add the account credentials to this url\n",
    "url = 'https://twitter.com/'"
   ]
  },
  {
   "cell_type": "code",
   "execution_count": null,
   "metadata": {},
   "outputs": [],
   "source": [
    "#your code"
   ]
  },
  {
   "cell_type": "markdown",
   "metadata": {},
   "source": [
    "#### Number of followers of a given twitter account"
   ]
  },
  {
   "cell_type": "markdown",
   "metadata": {},
   "source": [
    "You will need to include a ***try/except block*** in case account/s name not found. \n",
    "<br>***Hint:*** the program should count the followers for any provided account"
   ]
  },
  {
   "cell_type": "code",
   "execution_count": null,
   "metadata": {},
   "outputs": [],
   "source": [
    "# This is the url you will scrape in this exercise \n",
    "# You will need to add the account credentials to this url\n",
    "url = 'https://twitter.com/'"
   ]
  },
  {
   "cell_type": "code",
   "execution_count": null,
   "metadata": {},
   "outputs": [],
   "source": [
    "#your code"
   ]
  },
  {
   "cell_type": "markdown",
   "metadata": {},
   "source": [
    "#### List all language names and number of related articles in the order they appear in wikipedia.org"
   ]
  },
  {
   "cell_type": "code",
   "execution_count": null,
   "metadata": {},
   "outputs": [],
   "source": [
    "# This is the url you will scrape in this exercise\n",
    "url = 'https://www.wikipedia.org/'"
   ]
  },
  {
   "cell_type": "code",
   "execution_count": null,
   "metadata": {},
   "outputs": [],
   "source": [
    "#your code"
   ]
  },
  {
   "cell_type": "markdown",
   "metadata": {},
   "source": [
    "#### A list with the different kind of datasets available in data.gov.uk "
   ]
  },
  {
   "cell_type": "code",
   "execution_count": null,
   "metadata": {},
   "outputs": [],
   "source": [
    "# This is the url you will scrape in this exercise\n",
    "url = 'https://data.gov.uk/'"
   ]
  },
  {
   "cell_type": "code",
   "execution_count": null,
   "metadata": {},
   "outputs": [],
   "source": [
    "#your code "
   ]
  },
  {
   "cell_type": "markdown",
   "metadata": {},
   "source": [
    "#### Top 10 languages by number of native speakers stored in a Pandas Dataframe"
   ]
  },
  {
   "cell_type": "code",
   "execution_count": null,
   "metadata": {},
   "outputs": [],
   "source": [
    "# This is the url you will scrape in this exercise\n",
    "url = 'https://en.wikipedia.org/wiki/List_of_languages_by_number_of_native_speakers'"
   ]
  },
  {
   "cell_type": "code",
   "execution_count": null,
   "metadata": {},
   "outputs": [],
   "source": [
    "#your code"
   ]
  },
  {
   "cell_type": "markdown",
   "metadata": {},
   "source": [
    "### BONUS QUESTIONS"
   ]
  },
  {
   "cell_type": "markdown",
   "metadata": {},
   "source": [
    "#### Scrape a certain number of tweets of a given Twitter account."
   ]
  },
  {
   "cell_type": "code",
   "execution_count": null,
   "metadata": {},
   "outputs": [],
   "source": [
    "# This is the url you will scrape in this exercise \n",
    "# You will need to add the account credentials to this url\n",
    "url = 'https://twitter.com/'"
   ]
  },
  {
   "cell_type": "code",
   "execution_count": null,
   "metadata": {},
   "outputs": [],
   "source": [
    "# your code"
   ]
  },
  {
   "cell_type": "markdown",
   "metadata": {},
   "source": [
    "#### IMDB's Top 250 data (movie name, Initial release, director name and stars) as a pandas dataframe"
   ]
  },
  {
   "cell_type": "code",
   "execution_count": null,
   "metadata": {},
   "outputs": [],
   "source": [
    "# This is the url you will scrape in this exercise \n",
    "url = 'https://www.imdb.com/chart/top'"
   ]
  },
  {
   "cell_type": "code",
   "execution_count": null,
   "metadata": {},
   "outputs": [],
   "source": [
    "# your code"
   ]
  },
  {
   "cell_type": "markdown",
   "metadata": {},
   "source": [
    "#### Movie name, year and a brief summary of the top 10 random movies (IMDB) as a pandas dataframe."
   ]
  },
  {
   "cell_type": "code",
   "execution_count": null,
   "metadata": {},
   "outputs": [],
   "source": [
    "#This is the url you will scrape in this exercise\n",
    "url = 'http://www.imdb.com/chart/top'"
   ]
  },
  {
   "cell_type": "code",
   "execution_count": null,
   "metadata": {},
   "outputs": [],
   "source": [
    "#your code"
   ]
  },
  {
   "cell_type": "markdown",
   "metadata": {},
   "source": [
    "#### Find the live weather report (temperature, wind speed, description and weather) of a given city."
   ]
  },
  {
   "cell_type": "code",
   "execution_count": null,
   "metadata": {},
   "outputs": [],
   "source": [
    "#https://openweathermap.org/current\n",
    "city = city=input('Enter the city:')\n",
    "url = 'http://api.openweathermap.org/data/2.5/weather?'+'q='+city+'&APPID=b35975e18dc93725acb092f7272cc6b8&units=metric'"
   ]
  },
  {
   "cell_type": "code",
   "execution_count": null,
   "metadata": {},
   "outputs": [],
   "source": [
    "# your code"
   ]
  },
  {
   "cell_type": "markdown",
   "metadata": {},
   "source": [
    "#### Book name,price and stock availability as a pandas dataframe."
   ]
  },
  {
   "cell_type": "code",
   "execution_count": null,
   "metadata": {},
   "outputs": [],
   "source": [
    "# This is the url you will scrape in this exercise. \n",
    "# It is a fictional bookstore created to be scraped. \n",
    "url = 'http://books.toscrape.com/'"
   ]
  },
  {
   "cell_type": "code",
   "execution_count": null,
   "metadata": {},
   "outputs": [],
   "source": [
    "#your code"
   ]
  }
 ],
 "metadata": {
  "kernelspec": {
   "display_name": "Python [conda env:data_env]",
   "language": "python",
   "name": "conda-env-data_env-py"
  },
  "language_info": {
   "codemirror_mode": {
    "name": "ipython",
    "version": 3
   },
   "file_extension": ".py",
   "mimetype": "text/x-python",
   "name": "python",
   "nbconvert_exporter": "python",
   "pygments_lexer": "ipython3",
   "version": "3.7.5"
  }
 },
 "nbformat": 4,
 "nbformat_minor": 4
}
