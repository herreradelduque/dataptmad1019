{
 "cells": [
  {
   "cell_type": "markdown",
   "metadata": {},
   "source": [
    "## Challenge 2: Sets\n",
    "\n",
    "There are a lot to learn about Python Sets and the information presented in the lesson is limited due to its length. To learn Python Sets in depth you are strongly encouraged to review the W3Schools tutorial on [Python Sets Examples and Methods](https://www.w3schools.com/python/python_sets.asp) before you work on this lab. Some difficult questions in this lab have their solutions in the W3Schools tutorial.\n",
    "\n",
    "#### First, import the Python `random` libary"
   ]
  },
  {
   "cell_type": "code",
   "execution_count": 17,
   "metadata": {},
   "outputs": [],
   "source": [
    "import random"
   ]
  },
  {
   "cell_type": "markdown",
   "metadata": {},
   "source": [
    "#### In the cell below, create a list named `sample_list_1` with 80 random values. \n",
    "\n",
    "Requirements:\n",
    "\n",
    "* Each value is an integer falling between 0 and 100.\n",
    "* Each value in the list is unique.\n",
    "\n",
    "Print `sample_list_1` to review its values\n",
    "\n",
    "*Hint: use `random.sample` ([reference](https://docs.python.org/3/library/random.html#random.sample)).*"
   ]
  },
  {
   "cell_type": "code",
   "execution_count": 18,
   "metadata": {},
   "outputs": [
    {
     "name": "stdout",
     "output_type": "stream",
     "text": [
      "[67, 3, 0, 100, 14, 29, 28, 60, 50, 37, 33, 43, 35, 9, 53, 61, 87, 80, 58, 22, 82, 10, 7, 23, 65, 39, 11, 52, 36, 97, 78, 62, 25, 88, 77, 94, 64, 56, 46, 17, 4, 34, 69, 96, 45, 70, 2, 71, 15, 48, 91, 42, 54, 59, 8, 55, 99, 5, 13, 51, 63, 57, 31, 83, 75, 79, 49, 74, 12, 30, 44, 18, 81, 92, 26, 84, 98, 24, 95, 32]\n"
     ]
    }
   ],
   "source": [
    "# Your code here\n",
    "sample_list_1 = random.sample(range(101),80)\n",
    "\n",
    "print(sample_list_1)"
   ]
  },
  {
   "cell_type": "markdown",
   "metadata": {},
   "source": [
    "#### Convert `sample_list_1` to a set called `set1`. Print the length of the set. Is its length still 80?"
   ]
  },
  {
   "cell_type": "code",
   "execution_count": 19,
   "metadata": {},
   "outputs": [
    {
     "name": "stdout",
     "output_type": "stream",
     "text": [
      " The length of set 1 is: 80\n"
     ]
    }
   ],
   "source": [
    "# Your code here\n",
    "set1 = set(sample_list_1)\n",
    "\n",
    "print(f' The length of set 1 is: {len(set1)}')"
   ]
  },
  {
   "cell_type": "markdown",
   "metadata": {},
   "source": [
    "#### Create another list named `sample_list_2` with 80 random values.\n",
    "\n",
    "Requirements:\n",
    "\n",
    "* Each value is an integer falling between 0 and 100.\n",
    "* The values in the list don't have to be unique.\n",
    "\n",
    "*Hint: Use a FOR loop.*"
   ]
  },
  {
   "cell_type": "code",
   "execution_count": 20,
   "metadata": {},
   "outputs": [
    {
     "name": "stdout",
     "output_type": "stream",
     "text": [
      "[34, 79, 87, 0, 16, 60, 29, 85, 98, 92, 70, 25, 11, 45, 71, 80, 46, 29, 75, 95, 54, 92, 26, 28, 13, 6, 84, 73, 87, 62, 58, 32, 14, 44, 73, 7, 10, 3, 43, 10, 24, 55, 54, 23, 38, 15, 91, 89, 0, 13, 0, 31, 25, 64, 37, 97, 57, 9, 98, 74, 70, 46, 66, 61, 18, 43, 56, 4, 73, 34, 8, 63, 81, 62, 100, 53, 51, 65, 37, 84]\n",
      "80\n"
     ]
    }
   ],
   "source": [
    "# Your code here\n",
    "\n",
    "sample_list_2 = []\n",
    "\n",
    "for i in range(0, 80):\n",
    "    \n",
    "    rand = random.randint(0, 100)\n",
    "    \n",
    "    sample_list_2.append(rand)\n",
    "    \n",
    "print(sample_list_2)\n",
    "\n",
    "print(len(sample_list_2))"
   ]
  },
  {
   "cell_type": "markdown",
   "metadata": {},
   "source": [
    "#### Convert `sample_list_2` to a set called `set2`. Print the length of the set. Is its length still 80?"
   ]
  },
  {
   "cell_type": "code",
   "execution_count": 21,
   "metadata": {},
   "outputs": [
    {
     "name": "stdout",
     "output_type": "stream",
     "text": [
      " The length of set 2 is: 61\n"
     ]
    }
   ],
   "source": [
    "# Your code here\n",
    "set2 = set(sample_list_2)\n",
    "\n",
    "print(f' The length of set 2 is: {len(set2)}')"
   ]
  },
  {
   "cell_type": "markdown",
   "metadata": {},
   "source": [
    "#### Identify the elements present in `set1` but not in `set2`. Assign the elements to a new set named `set3`."
   ]
  },
  {
   "cell_type": "code",
   "execution_count": 22,
   "metadata": {},
   "outputs": [
    {
     "name": "stdout",
     "output_type": "stream",
     "text": [
      "{2, 5, 12, 17, 22, 30, 33, 35, 36, 39, 42, 48, 49, 50, 52, 59, 67, 69, 77, 78, 82, 83, 88, 94, 96, 99}\n"
     ]
    }
   ],
   "source": [
    "# Your code here\n",
    "'''set3 = []\n",
    "\n",
    "for i in set1:\n",
    "    if i not in set2:\n",
    "        set3.append(i)\n",
    "\n",
    "set3 = set(set3)'''\n",
    "\n",
    "#Octavio's correction:\n",
    "\n",
    "set3 = set1 - set2 \n",
    "\n",
    "print(set3)"
   ]
  },
  {
   "cell_type": "markdown",
   "metadata": {},
   "source": [
    "#### Identify the elements present in `set2` but not in `set1`. Assign the elements to a new set named `set4`."
   ]
  },
  {
   "cell_type": "code",
   "execution_count": 23,
   "metadata": {},
   "outputs": [
    {
     "name": "stdout",
     "output_type": "stream",
     "text": [
      "{66, 38, 6, 73, 16, 85, 89}\n"
     ]
    }
   ],
   "source": [
    "# Your code here\n",
    "'''set4 = []\n",
    "\n",
    "for j in set2:\n",
    "    if j not in set1:\n",
    "        set4.append(j)\n",
    "        \n",
    "set4 = set(set4)'''    \n",
    "\n",
    "#Octavio's correction:\n",
    "\n",
    "set4 = set2 - set1\n",
    "\n",
    "print(set4)"
   ]
  },
  {
   "cell_type": "markdown",
   "metadata": {},
   "source": [
    "#### Now Identify the elements shared between `set1` and `set2`. Assign the elements to a new set named `set5`."
   ]
  },
  {
   "cell_type": "code",
   "execution_count": 24,
   "metadata": {},
   "outputs": [
    {
     "name": "stdout",
     "output_type": "stream",
     "text": [
      "{0, 3, 4, 7, 8, 9, 10, 11, 13, 14, 15, 18, 23, 24, 25, 26, 28, 29, 31, 32, 34, 37, 43, 44, 45, 46, 51, 53, 54, 55, 56, 57, 58, 60, 61, 62, 63, 64, 65, 70, 71, 74, 75, 79, 80, 81, 84, 87, 91, 92, 95, 97, 98, 100}\n"
     ]
    }
   ],
   "source": [
    "# Your code here\n",
    "'''set5 = []\n",
    "\n",
    "for k in set1:\n",
    "    if k in set2:\n",
    "        set5.append(k)\n",
    "        \n",
    "set5 = set(set5)'''    \n",
    "\n",
    "#Octavio's correction:\n",
    "\n",
    "set5 = set1 & set2\n",
    "\n",
    "print(set5)"
   ]
  },
  {
   "cell_type": "markdown",
   "metadata": {},
   "source": [
    "#### What is the relationship among the following values:\n",
    "\n",
    "* len(set1)\n",
    "* len(set2)\n",
    "* len(set3)\n",
    "* len(set4)\n",
    "* len(set5)\n",
    "\n",
    "Use a math formular to represent that relationship. Test your formular with Python code."
   ]
  },
  {
   "cell_type": "code",
   "execution_count": 25,
   "metadata": {},
   "outputs": [
    {
     "name": "stdout",
     "output_type": "stream",
     "text": [
      " - set1 lenght: 80\n",
      " - set2 lenght: 61\n",
      " - set3 lenght: 26\n",
      " - set4 lenght: 7\n",
      " - set5 lenght: 54\n",
      "\n",
      "- The factorial of len((set1) is:\n",
      " 71569457046263802294811533723186532165584657342365752577109445058227039255480148842668944867280814080000000000000000000\n",
      "\n",
      "- The factorial of len((set2) is:\n",
      " 507580213877224798800856812176625227226004528988036003099405939480985600000000000000\n",
      "\n",
      "- The factorial of len((set3) is:\n",
      " 403291461126605635584000000\n",
      "\n",
      "- The factorial of len((set4) is:\n",
      " 5040\n",
      "\n",
      "- The factorial of len((set5) is:\n",
      " 230843697339241380472092742683027581083278564571807941132288000000000000\n",
      "\n"
     ]
    },
    {
     "data": {
      "text/plain": [
       "True"
      ]
     },
     "execution_count": 25,
     "metadata": {},
     "output_type": "execute_result"
    }
   ],
   "source": [
    "# Your code here\n",
    "#sets_list = [len(set1), len(set2), len(set3), len(set4), len(set5)]\n",
    "\n",
    "len_set1 = len(set1)\n",
    "len_set2 = len(set2)\n",
    "len_set3 = len(set3)\n",
    "len_set4 = len(set4)\n",
    "len_set5 = len(set5)\n",
    "\n",
    "\n",
    "print(f' - set1 lenght: {len_set1}')\n",
    "print(f' - set2 lenght: {len_set2}')\n",
    "print(f' - set3 lenght: {len_set3}')\n",
    "print(f' - set4 lenght: {len_set4}')\n",
    "print(f' - set5 lenght: {len_set5}\\n') \n",
    "\n",
    "\n",
    "import math\n",
    "           \n",
    "\n",
    "\n",
    "print(f'- The factorial of len((set1) is:\\n {math.factorial(len_set1)}\\n')\n",
    "print(f'- The factorial of len((set2) is:\\n {math.factorial(len_set2)}\\n')\n",
    "print(f'- The factorial of len((set3) is:\\n {math.factorial(len_set3)}\\n')\n",
    "print(f'- The factorial of len((set4) is:\\n {math.factorial(len_set4)}\\n')\n",
    "print(f'- The factorial of len((set5) is:\\n {math.factorial(len_set5)}\\n')\n",
    "\n",
    "\n",
    "#Octavio's correction:\n",
    "\n",
    "#Try the secret key haha: \n",
    "\n",
    "len(set3) + len(set4) + len(set5) * 2 == len(set1) + len(set2)"
   ]
  },
  {
   "cell_type": "markdown",
   "metadata": {},
   "source": [
    "#### Create an empty set called `set6`."
   ]
  },
  {
   "cell_type": "code",
   "execution_count": 26,
   "metadata": {},
   "outputs": [],
   "source": [
    "# Your code here\n",
    "set6 = []\n",
    "set6 = set(set6)"
   ]
  },
  {
   "cell_type": "markdown",
   "metadata": {},
   "source": [
    "#### Add `set3` and `set5` to `set6` using the Python Set `update` method."
   ]
  },
  {
   "cell_type": "code",
   "execution_count": 27,
   "metadata": {},
   "outputs": [
    {
     "name": "stdout",
     "output_type": "stream",
     "text": [
      "\n",
      "\n",
      "Union of set3 and set6: \n",
      " {2, 67, 5, 69, 12, 77, 78, 17, 82, 83, 22, 88, 30, 94, 96, 33, 35, 36, 99, 39, 42, 48, 49, 50, 52, 59}\n",
      "\n",
      "\n",
      "Union of set3, set5 and set6: \n",
      " {0, 2, 3, 4, 5, 7, 8, 9, 10, 11, 12, 13, 14, 15, 17, 18, 22, 23, 24, 25, 26, 28, 29, 30, 31, 32, 33, 34, 35, 36, 37, 39, 42, 43, 44, 45, 46, 48, 49, 50, 51, 52, 53, 54, 55, 56, 57, 58, 59, 60, 61, 62, 63, 64, 65, 67, 69, 70, 71, 74, 75, 77, 78, 79, 80, 81, 82, 83, 84, 87, 88, 91, 92, 94, 95, 96, 97, 98, 99, 100}\n"
     ]
    }
   ],
   "source": [
    "# Your code here\n",
    "\n",
    "set6.update(set3)\n",
    "print('\\n')\n",
    "print(f'Union of set3 and set6: \\n {set6}')\n",
    "\n",
    "set6.update(set5)\n",
    "print('\\n')\n",
    "print(f'Union of set3, set5 and set6: \\n {set6}')"
   ]
  },
  {
   "cell_type": "markdown",
   "metadata": {},
   "source": [
    "#### Check if `set1` and `set6` are equal."
   ]
  },
  {
   "cell_type": "code",
   "execution_count": 28,
   "metadata": {},
   "outputs": [
    {
     "name": "stdout",
     "output_type": "stream",
     "text": [
      "True\n"
     ]
    }
   ],
   "source": [
    "# Your code here\n",
    "if set1 == set6:\n",
    "    print(True)"
   ]
  },
  {
   "cell_type": "markdown",
   "metadata": {},
   "source": [
    "#### Check if `set1` contains `set2` using the Python Set `issubset` method. Then check if `set1` contains `set3`.*"
   ]
  },
  {
   "cell_type": "code",
   "execution_count": 29,
   "metadata": {},
   "outputs": [
    {
     "name": "stdout",
     "output_type": "stream",
     "text": [
      "False\n",
      "True\n"
     ]
    }
   ],
   "source": [
    "# Your code here\n",
    "print(set2.issubset(set1))\n",
    "\n",
    "print(set3.issubset(set1))"
   ]
  },
  {
   "cell_type": "markdown",
   "metadata": {},
   "source": [
    "#### Using the Python Set `union` method, aggregate `set3`, `set4`, and `set5`. Then aggregate `set1` and `set2`. \n",
    "\n",
    "#### Check if the aggregated values are equal."
   ]
  },
  {
   "cell_type": "code",
   "execution_count": 30,
   "metadata": {},
   "outputs": [
    {
     "name": "stdout",
     "output_type": "stream",
     "text": [
      "{0, 2, 3, 4, 5, 6, 7, 8, 9, 10, 11, 12, 13, 14, 15, 16, 17, 18, 22, 23, 24, 25, 26, 28, 29, 30, 31, 32, 33, 34, 35, 36, 37, 38, 39, 42, 43, 44, 45, 46, 48, 49, 50, 51, 52, 53, 54, 55, 56, 57, 58, 59, 60, 61, 62, 63, 64, 65, 66, 67, 69, 70, 71, 73, 74, 75, 77, 78, 79, 80, 81, 82, 83, 84, 85, 87, 88, 89, 91, 92, 94, 95, 96, 97, 98, 99, 100}\n"
     ]
    }
   ],
   "source": [
    "# Your code here\n",
    "\n",
    "set3_4_5 = set3.union(set4.union(set5))\n",
    "\n",
    "print(set3_4_5)"
   ]
  },
  {
   "cell_type": "markdown",
   "metadata": {},
   "source": [
    "#### Using the `pop` method, remove the first element from `set1`."
   ]
  },
  {
   "cell_type": "code",
   "execution_count": 31,
   "metadata": {},
   "outputs": [
    {
     "name": "stdout",
     "output_type": "stream",
     "text": [
      "{0, 2, 3, 4, 5, 7, 8, 9, 10, 11, 12, 13, 14, 15, 17, 18, 22, 23, 24, 25, 26, 28, 29, 30, 31, 32, 33, 34, 35, 36, 37, 39, 42, 43, 44, 45, 46, 48, 49, 50, 51, 52, 53, 54, 55, 56, 57, 58, 59, 60, 61, 62, 63, 64, 65, 67, 69, 70, 71, 74, 75, 77, 78, 79, 80, 81, 82, 83, 84, 87, 88, 91, 92, 94, 95, 96, 97, 98, 99, 100}\n",
      "\n",
      "\n",
      "0\n",
      "\n",
      "\n",
      "{2, 3, 4, 5, 7, 8, 9, 10, 11, 12, 13, 14, 15, 17, 18, 22, 23, 24, 25, 26, 28, 29, 30, 31, 32, 33, 34, 35, 36, 37, 39, 42, 43, 44, 45, 46, 48, 49, 50, 51, 52, 53, 54, 55, 56, 57, 58, 59, 60, 61, 62, 63, 64, 65, 67, 69, 70, 71, 74, 75, 77, 78, 79, 80, 81, 82, 83, 84, 87, 88, 91, 92, 94, 95, 96, 97, 98, 99, 100}\n"
     ]
    }
   ],
   "source": [
    "# Your code here\n",
    "\n",
    "print(set1)\n",
    "\n",
    "pop = set1.pop()\n",
    "\n",
    "print('\\n')\n",
    "print(pop)\n",
    "\n",
    "print('\\n')\n",
    "print(set1)"
   ]
  },
  {
   "cell_type": "markdown",
   "metadata": {},
   "source": [
    "#### Remove every element in the following list from `set1` if they are present in the set. Print the remaining elements.\n",
    "\n",
    "```\n",
    "list_to_remove = [1, 9, 11, 19, 21, 29, 31, 39, 41, 49, 51, 59, 61, 69, 71, 79, 81, 89, 91, 99]\n",
    "```"
   ]
  },
  {
   "cell_type": "code",
   "execution_count": 47,
   "metadata": {},
   "outputs": [
    {
     "name": "stdout",
     "output_type": "stream",
     "text": [
      "{2, 3, 4, 5, 7, 8, 10, 12, 13, 14, 15, 17, 18, 22, 23, 24, 25, 26, 28, 30, 32, 33, 34, 35, 36, 37, 42, 43, 44, 45, 46, 48, 50, 52, 53, 54, 55, 56, 57, 58, 60, 62, 63, 64, 65, 67, 70, 74, 75, 77, 78, 80, 82, 83, 84, 87, 88, 92, 94, 95, 96, 97, 98, 100}\n"
     ]
    }
   ],
   "source": [
    "# Your code here\n",
    "\n",
    "list_to_remove = [1, 9, 11, 19, 21, 29, 31, 39, 41, 49, 51, 59, 61, 69, 71, 79, 81, 89, 91, 99]\n",
    "\n",
    "'''for i in list_to_remove:\n",
    "    if i in set1:\n",
    "        list_to_remove.remove(i)\n",
    "    \n",
    "print(list_to_remove)'''\n",
    "\n",
    "#Octavios correction:\n",
    "\n",
    "for i in list_to_remove:\n",
    "    if i in set1:\n",
    "        set1.remove(i)\n",
    "    \n",
    "print(set1)\n"
   ]
  }
 ],
 "metadata": {
  "kernelspec": {
   "display_name": "Python 3",
   "language": "python",
   "name": "python3"
  },
  "language_info": {
   "codemirror_mode": {
    "name": "ipython",
    "version": 3
   },
   "file_extension": ".py",
   "mimetype": "text/x-python",
   "name": "python",
   "nbconvert_exporter": "python",
   "pygments_lexer": "ipython3",
   "version": "3.7.4"
  }
 },
 "nbformat": 4,
 "nbformat_minor": 2
}
