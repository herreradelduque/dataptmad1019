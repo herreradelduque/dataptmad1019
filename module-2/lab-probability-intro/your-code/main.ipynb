{
 "cells": [
  {
   "cell_type": "markdown",
   "metadata": {},
   "source": [
    "# Introduction To Probability\n",
    "## Challenge 1\n",
    "\n",
    "A and B are events of a probability space with $(\\omega, \\sigma, P)$ such that $P(A) = 0.3$, $P(B) = 0.6$ and $P(A \\cap B) = 0.1$\n",
    "\n",
    "Which of the following statements are false?\n",
    "* $P(A \\cup B) = 0.6$\n",
    "* $P(A \\cap B^{C}) = 0.2$\n",
    "* $P(A \\cap (B \\cup B^{C})) = 0.4$\n",
    "* $P(A^{C} \\cap B^{C}) = 0.3$\n",
    "* $P((A \\cap B)^{C}) = 0.9$"
   ]
  },
  {
   "cell_type": "markdown",
   "metadata": {},
   "source": [
    "---------------------------------------------\n",
    "\n",
    "\"\"\"\n",
    "------------------------\n",
    "your solution here:\n",
    "------------------------\n",
    "\"\"\"\n",
    "* $P(A \\cup B) = 0.6$   ....... FALSE (anwser is: 0.8)\n",
    "\n",
    "* $P(A \\cap B^{C}) = 0.2$   .......  TRUE\n",
    "\n",
    "* $P(A \\cap (B \\cup B^{C})) = 0.4$   ....... FALSE (answer is: 0.2)\n",
    "* $P(A^{C} \\cap B^{C}) = 0.3$   ....... FALSE (anser is 1 - 0.3 - 0.5 = 0.2\n",
    "\n",
    "* $P((A \\cap B)^{C}) = 0.9$  ....... TRUE\n",
    "\n",
    "---------------------------------------------"
   ]
  },
  {
   "cell_type": "markdown",
   "metadata": {},
   "source": [
    "## Challenge 2\n",
    "There is a box with 10 white balls, 12 red balls and 8 black balls. Calculate the probability of:\n",
    "* Taking a white ball out.\n",
    "* Taking a white ball out after taking a black ball out.\n",
    "* Taking a red ball out after taking a black and a red ball out.\n",
    "* Taking a red ball out after taking a black and a red ball out with reposition.\n",
    "\n",
    "**Hint**: Reposition means putting back the ball into the box after taking it out."
   ]
  },
  {
   "cell_type": "markdown",
   "metadata": {},
   "source": [
    "---------------------------------------------\n",
    "\n",
    "\"\"\"\n",
    "------------------------\n",
    "your solution here:\n",
    "------------------------\n",
    "\"\"\"\n",
    "---------------------------------------------\n",
    "\n",
    "Taking a white ball out ...... 10/(10+12+8) = 1/3\n",
    "\n",
    "Taking a white ball out after taking a black ball out ...... (8/(10+12+8)) * (10/(10+12+7)) = 4/15 * 10/29 = 266/435 = 0.611\n",
    "\n",
    "Taking a red ball out after taking a black and a red ball out ...... (12/(10+12+8)) * (8/(10+11+8)) * (11/(10+11+7)) = 44/1015 = 0.04\n",
    "\n",
    "Taking a red ball out after taking a black and a red ball out with reposition ...... (12/(10+12+8)) * (8/(10+12+8)) * (11/(10+12+8)) = 44/1125 = 0.039 \n",
    "\n",
    "---------------------------------------------"
   ]
  },
  {
   "cell_type": "markdown",
   "metadata": {},
   "source": [
    "## Challenge 3\n",
    "\n",
    "You are planning to go on a picnic today but the morning is cloudy. You hate rain so you don't know whether to go out or stay home! To help you make a decision, you gather the following data about rainy days:\n",
    "\n",
    "* 50% of all rainy days start off cloudy!\n",
    "* Cloudy mornings are common. About 40% of days start cloudy. \n",
    "* This month is usually dry so only 3 of 30 days (10%) tend to be rainy. \n",
    "\n",
    "What is the chance of rain during the day?"
   ]
  },
  {
   "cell_type": "markdown",
   "metadata": {},
   "source": [
    "---------------------------------------------\n",
    "\n",
    "\"\"\"\n",
    "------------------------\n",
    "your solution here:\n",
    "------------------------\n",
    "\"\"\"\n",
    "\n",
    "Since today is cloudy:\n",
    "    - 0.5\n",
    "    Since this month is ussualy dry:\n",
    "        - 0.1\n",
    "        \n",
    "Rain forecast for today = 0.5 * 0.1 = 0.05\n",
    "\n",
    "---------------------------------------------"
   ]
  },
  {
   "cell_type": "markdown",
   "metadata": {},
   "source": [
    "## Challenge 4\n",
    "\n",
    "One thousand people were asked through a telephone survey whether they thought more street lighting is needed at night or not.\n",
    "\n",
    "Out of the 480 men that answered the survey, 324 said yes and 156 said no. On the other hand, out of the 520 women that answered, 351 said yes and 169 said no. \n",
    "\n",
    "We wonder if men and women have a different opinions about the street lighting matter. Is gender relevant or irrelevant to the question?\n",
    "\n",
    "Consider the following events:\n",
    "- The answer is yes, so the person that answered thinks that more street lighting is needed.\n",
    "- The person who answered is a man.\n",
    "\n",
    "We want to know if these events are independent, that is, if the fact of wanting more light depends on whether one is male or female. Are these events independent or not?\n",
    "\n",
    "**Hint**: To clearly compare the answers by gender, it is best to place the data in a table."
   ]
  },
  {
   "cell_type": "code",
   "execution_count": 19,
   "metadata": {},
   "outputs": [],
   "source": [
    "# your code here\n",
    "import pandas as pd"
   ]
  },
  {
   "cell_type": "code",
   "execution_count": 26,
   "metadata": {},
   "outputs": [],
   "source": [
    "light = {'men':{'yes':324,'no':156},'women':{'yes':351,'no':169}}"
   ]
  },
  {
   "cell_type": "code",
   "execution_count": 27,
   "metadata": {},
   "outputs": [],
   "source": [
    "df_light = pd.DataFrame.from_dict(light)"
   ]
  },
  {
   "cell_type": "code",
   "execution_count": 28,
   "metadata": {},
   "outputs": [],
   "source": [
    "#df_light['total_yes_no'] = df_light.sum(axis=1)\n",
    "df_light.loc[:,'Total'] = df_light.sum(axis=1)"
   ]
  },
  {
   "cell_type": "code",
   "execution_count": 29,
   "metadata": {},
   "outputs": [
    {
     "data": {
      "text/html": [
       "<div>\n",
       "<style scoped>\n",
       "    .dataframe tbody tr th:only-of-type {\n",
       "        vertical-align: middle;\n",
       "    }\n",
       "\n",
       "    .dataframe tbody tr th {\n",
       "        vertical-align: top;\n",
       "    }\n",
       "\n",
       "    .dataframe thead th {\n",
       "        text-align: right;\n",
       "    }\n",
       "</style>\n",
       "<table border=\"1\" class=\"dataframe\">\n",
       "  <thead>\n",
       "    <tr style=\"text-align: right;\">\n",
       "      <th></th>\n",
       "      <th>men</th>\n",
       "      <th>women</th>\n",
       "      <th>Total</th>\n",
       "    </tr>\n",
       "  </thead>\n",
       "  <tbody>\n",
       "    <tr>\n",
       "      <th>yes</th>\n",
       "      <td>324.0</td>\n",
       "      <td>351.0</td>\n",
       "      <td>675.0</td>\n",
       "    </tr>\n",
       "    <tr>\n",
       "      <th>no</th>\n",
       "      <td>156.0</td>\n",
       "      <td>169.0</td>\n",
       "      <td>325.0</td>\n",
       "    </tr>\n",
       "    <tr>\n",
       "      <th>Total</th>\n",
       "      <td>480.0</td>\n",
       "      <td>520.0</td>\n",
       "      <td>1000.0</td>\n",
       "    </tr>\n",
       "  </tbody>\n",
       "</table>\n",
       "</div>"
      ],
      "text/plain": [
       "         men  women   Total\n",
       "yes    324.0  351.0   675.0\n",
       "no     156.0  169.0   325.0\n",
       "Total  480.0  520.0  1000.0"
      ]
     },
     "execution_count": 29,
     "metadata": {},
     "output_type": "execute_result"
    }
   ],
   "source": [
    "df_light.loc['Total',:]= df_light.sum(axis=0)\n",
    "\n",
    "df_light"
   ]
  },
  {
   "cell_type": "markdown",
   "metadata": {},
   "source": [
    "------------------------------------------------------------\n",
    "\n",
    "\"\"\"\n",
    "your solution here\n",
    "\"\"\"\n",
    "\n",
    "    If all rows: f_ij/N = (f_i./N)*(f.j/N) ==> variables are independent (else: dependent)\n",
    "        \n",
    "        -> row 1 col 1: 324/1000 = (675/1000)*(480/1000); 0.324 = 0.324 (True)\n",
    "        -> row 2 col 1: 156/1000 = (325/1000)*(480/1000); 0.156 = 0.156 (True)\n",
    "        -> row 1 col 2: 351/1000 = (675/1000)*(520/1000); 0.351 = 0.351 (True)\n",
    "        -> row 2 col 2: 169/1000 = (325/1000)*(520/1000); 0.169 = 0.169 (True)\n",
    "            \n",
    "Since all the requierements for both variables, Gender ('Men'/'Women') and Light election ('yes'/'no'), are met, we conclude that both are INDEPENDET.\n",
    "\n",
    "------------------------------------------------------------"
   ]
  }
 ],
 "metadata": {
  "kernelspec": {
   "display_name": "Python [conda env:data_env]",
   "language": "python",
   "name": "conda-env-data_env-py"
  },
  "language_info": {
   "codemirror_mode": {
    "name": "ipython",
    "version": 3
   },
   "file_extension": ".py",
   "mimetype": "text/x-python",
   "name": "python",
   "nbconvert_exporter": "python",
   "pygments_lexer": "ipython3",
   "version": "3.7.5"
  }
 },
 "nbformat": 4,
 "nbformat_minor": 4
}
