{
 "cells": [
  {
   "cell_type": "markdown",
   "metadata": {},
   "source": [
    "# Intro to Bayesian Statistics Lab\n",
    "\n",
    "Complete the following set of exercises to solidify your knowledge of Bayesian statistics and Bayesian data analysis."
   ]
  },
  {
   "cell_type": "code",
   "execution_count": 1,
   "metadata": {},
   "outputs": [],
   "source": [
    "import pandas as pd\n",
    "import numpy as np\n",
    "import matplotlib.pyplot as plt"
   ]
  },
  {
   "cell_type": "markdown",
   "metadata": {},
   "source": [
    "## 1. Cookie Problem\n",
    "\n",
    "Suppose we have two bowls of cookies. Bowl 1 contains 30 vanilla cookies and 10 chocolate cookies. Bowl 2 contains 20 of each. You randomly pick one cookie out of one of the bowls, and it is vanilla. Use Bayes Theorem to calculate the probability that the vanilla cookie you picked came from Bowl 1?"
   ]
  },
  {
   "cell_type": "code",
   "execution_count": 2,
   "metadata": {},
   "outputs": [
    {
     "name": "stdout",
     "output_type": "stream",
     "text": [
      " - Bayesian probability:   p(Vanilla|Bowl1) = 0.6\n"
     ]
    }
   ],
   "source": [
    "'''p(B1|V) = \t(p(B1)*p(V|B1)) / p(V)\n",
    "\n",
    "p(B1): This is the probability that we chose Bowl 1, unconditioned by what kind of cookie we got. Since the problem says we chose a bowl at random, we can assume p(B1) = 1/2.\n",
    "p(V|B1): This is the probability of getting a vanilla cookie from Bowl 1, which is 3/4.\n",
    "p(V): This is the probability of drawing a vanilla cookie from either bowl. Since we had an equal chance of choosing either bowl and the bowls contain the same number of cookies, we had the same chance of choosing any cookie. Between the two bowls there are 50 vanilla and 30 chocolate cookies, so p(V) = 5/8.'''\n",
    "\n",
    "p_B1 = 1/2\n",
    "p_V_B1 = 3/4\n",
    "p_V = 5/8\n",
    "\n",
    "pp_B1_V= np.divide(np.multiply(p_B1,p_V_B1),p_V)\n",
    "\n",
    "print(f' - Bayesian probability:   p(Vanilla|Bowl1) = {pp_B1_V}')"
   ]
  },
  {
   "cell_type": "code",
   "execution_count": 3,
   "metadata": {},
   "outputs": [],
   "source": [
    "# Create a function to the same as the previuous point:\n",
    "\n",
    "def bayes_prob(p_A, p_B_A, p_B):\n",
    "    return np.divide(np.multiply(p_A, p_B_A),p_B)"
   ]
  },
  {
   "cell_type": "code",
   "execution_count": 4,
   "metadata": {},
   "outputs": [
    {
     "name": "stdout",
     "output_type": "stream",
     "text": [
      " - Bayesian probability:   p(Vanilla|Bowl1) = 0.6\n"
     ]
    }
   ],
   "source": [
    "# Repeat the operation with 'bayes_prob' function \n",
    "\n",
    "print(f' - Bayesian probability:   p(Vanilla|Bowl1) = {bayes_prob(p_B1,p_V_B1,p_V)}')"
   ]
  },
  {
   "cell_type": "markdown",
   "metadata": {},
   "source": [
    "What is the probability that it came from Bowl 2?"
   ]
  },
  {
   "cell_type": "code",
   "execution_count": 5,
   "metadata": {},
   "outputs": [
    {
     "name": "stdout",
     "output_type": "stream",
     "text": [
      " - Bayesian probability:   p(Vanilla|Bowl2) = 0.4\n"
     ]
    }
   ],
   "source": [
    "'''p(B2|V) = \t(p(B2)*p(V|B2)) / p(V)\n",
    "\n",
    "p(B2): This is the probability that we chose Bowl 2, unconditioned by what kind of cookie we got. Since the problem says we chose a bowl at random, we can assume p(B2) = 1/2.\n",
    "p(V|B2): This is the probability of getting a vanilla cookie from Bowl 2, which is 2/4.\n",
    "p(V): This is the probability of drawing a vanilla cookie from either bowl. Since we had an equal chance of choosing either bowl and the bowls contain the same number of cookies, we had the same chance of choosing any cookie. Between the two bowls there are 50 vanilla and 30 chocolate cookies, so p(V) = 5/8.'''\n",
    "\n",
    "p_B2 = 1/2\n",
    "p_V_B2 = 2/4\n",
    "p_V = 5/8\n",
    "\n",
    "pp_B2_V= np.divide(np.multiply(p_B1,p_V_B2),p_V)\n",
    "\n",
    "print(f' - Bayesian probability:   p(Vanilla|Bowl2) = {pp_B2_V}')"
   ]
  },
  {
   "cell_type": "code",
   "execution_count": 6,
   "metadata": {},
   "outputs": [
    {
     "name": "stdout",
     "output_type": "stream",
     "text": [
      " - Bayesian probability:   p(Vanilla|Bowl2) = 0.4\n"
     ]
    }
   ],
   "source": [
    "# Repeat the operation with 'bayes_prob' function \n",
    "\n",
    "print(f' - Bayesian probability:   p(Vanilla|Bowl2) = {bayes_prob(p_B2,p_V_B2,p_V)}')"
   ]
  },
  {
   "cell_type": "markdown",
   "metadata": {},
   "source": [
    "What if the cookie you had picked was chocolate? What are the probabilities that the chocolate cookie came from Bowl 1 and Bowl 2 respectively?"
   ]
  },
  {
   "cell_type": "code",
   "execution_count": 7,
   "metadata": {},
   "outputs": [
    {
     "name": "stdout",
     "output_type": "stream",
     "text": [
      " - Bayesian probability:   p(Chocolate|Bowl1) = 0.3333333333333333\n"
     ]
    }
   ],
   "source": [
    "p_B1 = 1/2\n",
    "p_ch_B1 = 1/4\n",
    "p_ch = 3/8\n",
    "\n",
    "pp_B1_ch= np.divide(np.multiply(p_B1,p_ch_B1),p_ch)\n",
    "\n",
    "print(f' - Bayesian probability:   p(Chocolate|Bowl1) = {pp_B1_ch}')"
   ]
  },
  {
   "cell_type": "code",
   "execution_count": 8,
   "metadata": {},
   "outputs": [
    {
     "name": "stdout",
     "output_type": "stream",
     "text": [
      " - Bayesian probability:   p(Chocolate|Bowl1) = 0.3333333333333333\n"
     ]
    }
   ],
   "source": [
    "# Repeat the operation with 'bayes_prob' function \n",
    "\n",
    "print(f' - Bayesian probability:   p(Chocolate|Bowl1) = {bayes_prob(p_B1,p_ch_B1,p_ch)}')"
   ]
  },
  {
   "cell_type": "code",
   "execution_count": 9,
   "metadata": {},
   "outputs": [
    {
     "name": "stdout",
     "output_type": "stream",
     "text": [
      " - Bayesian probability:   p(Chocolate|Bowl2) = 0.6666666666666666\n"
     ]
    }
   ],
   "source": [
    "p_B2 = 1/2\n",
    "p_ch_B2 = 2/4\n",
    "p_ch = 3/8\n",
    "\n",
    "pp_B2_ch= np.divide(np.multiply(p_B1,p_ch_B2),p_ch)\n",
    "\n",
    "print(f' - Bayesian probability:   p(Chocolate|Bowl2) = {pp_B2_ch}')"
   ]
  },
  {
   "cell_type": "code",
   "execution_count": 10,
   "metadata": {},
   "outputs": [
    {
     "name": "stdout",
     "output_type": "stream",
     "text": [
      " - Bayesian probability:   p(Chocolate|Bowl2) = 0.6666666666666666\n"
     ]
    }
   ],
   "source": [
    "# Repeat the operation with 'bayes_prob' function \n",
    "\n",
    "print(f' - Bayesian probability:   p(Chocolate|Bowl2) = {bayes_prob(p_B2,p_ch_B2,p_ch)}')"
   ]
  },
  {
   "cell_type": "markdown",
   "metadata": {},
   "source": [
    "## 2. Candy Problem\n",
    "\n",
    "Suppose you have two bags of candies:\n",
    "\n",
    "- In Bag 1, the mix of colors is:\n",
    "    - Brown - 30%\n",
    "    - Yellow - 20%\n",
    "    - Red - 20%\n",
    "    - Green - 10%\n",
    "    - Orange - 10%\n",
    "    - Tan - 10%\n",
    "    \n",
    "- In Bag 2, the mix of colors is:\n",
    "    - Blue - 24%\n",
    "    - Green - 20%\n",
    "    - Orange - 16%\n",
    "    - Yellow - 14%\n",
    "    - Red - 13%\n",
    "    - Brown - 13%\n",
    "    \n",
    "Not knowing which bag is which, you randomly draw one candy from each bag. One is yellow and one is green. What is the probability that the yellow one came from the Bag 1?\n",
    "\n",
    "*Hint: For the likelihoods, you will need to multiply the probabilities of drawing yellow from one bag and green from the other bag and vice versa.*"
   ]
  },
  {
   "cell_type": "code",
   "execution_count": 11,
   "metadata": {},
   "outputs": [
    {
     "name": "stdout",
     "output_type": "stream",
     "text": [
      " - Bayesian probability:   p(Yellow|Bag1) = 0.7407407407407408\n"
     ]
    }
   ],
   "source": [
    "p_B1 =  [1/2,  1/2]\n",
    "p_y_B1 = [0.2*0.2,0.1*0.14]\n",
    "p_y = sum(np.multiply(p_B1,p_y_B1))\n",
    "\n",
    "pp_B1_y= np.divide(np.multiply(p_B1,p_y_B1),p_y)\n",
    "\n",
    "print(f' - Bayesian probability:   p(Yellow|Bag1) = {pp_B1_y[0]}') "
   ]
  },
  {
   "cell_type": "code",
   "execution_count": 12,
   "metadata": {},
   "outputs": [
    {
     "name": "stdout",
     "output_type": "stream",
     "text": [
      " - Bayesian probability:   p(Yellow|Bag1) = 0.7407407407407408\n"
     ]
    }
   ],
   "source": [
    "# Repeat the operation with 'bayes_prob' function \n",
    "\n",
    "print(f' - Bayesian probability:   p(Yellow|Bag1) = {bayes_prob(p_B1,p_y_B1,p_y)[0]}') "
   ]
  },
  {
   "cell_type": "markdown",
   "metadata": {},
   "source": [
    "What is the probability that the yellow candy came from Bag 2?"
   ]
  },
  {
   "cell_type": "code",
   "execution_count": 13,
   "metadata": {},
   "outputs": [
    {
     "name": "stdout",
     "output_type": "stream",
     "text": [
      " - Bayesian probability:   p(Yellow|Bag1) = 0.25925925925925924\n"
     ]
    }
   ],
   "source": [
    "p_B1 =  [1/2,  1/2]\n",
    "p_y_B1 = [0.2*0.2,0.1*0.14]\n",
    "p_y = sum(np.multiply(p_B1,p_y_B1))\n",
    "\n",
    "pp_B1_y= np.divide(np.multiply(p_B1,p_y_B1),p_y)\n",
    "\n",
    "print(f' - Bayesian probability:   p(Yellow|Bag1) = {pp_B1_y[1]}') "
   ]
  },
  {
   "cell_type": "code",
   "execution_count": 14,
   "metadata": {},
   "outputs": [
    {
     "name": "stdout",
     "output_type": "stream",
     "text": [
      " - Bayesian probability:   p(Yellow|Bag2) = 0.25925925925925924\n"
     ]
    }
   ],
   "source": [
    "# Repeat the operation with 'bayes_prob' function \n",
    "\n",
    "print(f' - Bayesian probability:   p(Yellow|Bag2) = {bayes_prob(p_B1,p_y_B1,p_y)[1]}') "
   ]
  },
  {
   "cell_type": "markdown",
   "metadata": {},
   "source": [
    "What are the probabilities that the green one came from Bag 1 and Bag 2 respectively?"
   ]
  },
  {
   "cell_type": "code",
   "execution_count": 15,
   "metadata": {},
   "outputs": [
    {
     "name": "stdout",
     "output_type": "stream",
     "text": [
      " - Bayesian probability:   p(Green|Bag1) = 0.25925925925925924\n"
     ]
    }
   ],
   "source": [
    "p_B1 = [1/2,  1/2]\n",
    "p_G_B1 = [0.1*0.14,0.2*0.2]\n",
    "p_G = sum(np.multiply(p_B1,p_G_B1))\n",
    "\n",
    "pp_B1_G= np.divide(np.multiply(p_B1,p_G_B1),p_y)\n",
    "\n",
    "print(f' - Bayesian probability:   p(Green|Bag1) = {pp_B1_G[0]}') "
   ]
  },
  {
   "cell_type": "code",
   "execution_count": 16,
   "metadata": {},
   "outputs": [
    {
     "name": "stdout",
     "output_type": "stream",
     "text": [
      " - Bayesian probability:   p(Green|Bag1) = 0.25925925925925924\n"
     ]
    }
   ],
   "source": [
    "# Repeat the operation with 'bayes_prob' function \n",
    "\n",
    "print(f' - Bayesian probability:   p(Green|Bag1) = {bayes_prob(p_B1,p_G_B1,p_G)[0]}') "
   ]
  },
  {
   "cell_type": "code",
   "execution_count": 17,
   "metadata": {},
   "outputs": [
    {
     "name": "stdout",
     "output_type": "stream",
     "text": [
      " - Bayesian probability:   p(Green|Bag2) = 0.7407407407407408\n"
     ]
    }
   ],
   "source": [
    "p_B2 = [1/2,  1/2]\n",
    "p_G_B2 = [0.1*0.14,0.2*0.2]\n",
    "p_G = sum(np.multiply(p_B2,p_G_B2))\n",
    "\n",
    "pp_B2_G= np.divide(np.multiply(p_B1,p_G_B1),p_y)\n",
    "\n",
    "print(f' - Bayesian probability:   p(Green|Bag2) = {pp_B1_G[1]}') "
   ]
  },
  {
   "cell_type": "code",
   "execution_count": 18,
   "metadata": {},
   "outputs": [
    {
     "name": "stdout",
     "output_type": "stream",
     "text": [
      " - Bayesian probability:   p(Green|Bag2) = 0.7407407407407408\n"
     ]
    }
   ],
   "source": [
    "# Repeat the operation with 'bayes_prob' function \n",
    "\n",
    "print(f' - Bayesian probability:   p(Green|Bag2) = {bayes_prob(p_B2,p_G_B2,p_G)[1]}') "
   ]
  },
  {
   "cell_type": "markdown",
   "metadata": {},
   "source": [
    "## 3. Monty Hall Problem\n",
    "\n",
    "Suppose you are a contestant on the popular game show *Let's Make a Deal*. The host of the show (Monty Hall) presents you with three doors - Door A, Door B, and Door C. He tells you that there is a sports car behind one of them and if you choose the correct one, you win the car!\n",
    "\n",
    "You select Door A, but then Monty makes things a little more interesting. He opens Door B to reveal that there is no sports car behind it and asks you if you would like to stick with your choice of Door A or switch your choice to Door C. Given this new information, what are the probabilities of you winning the car if you stick with Door A versus if you switch to Door C?"
   ]
  },
  {
   "cell_type": "code",
   "execution_count": 19,
   "metadata": {},
   "outputs": [
    {
     "data": {
      "text/html": [
       "<div>\n",
       "<style scoped>\n",
       "    .dataframe tbody tr th:only-of-type {\n",
       "        vertical-align: middle;\n",
       "    }\n",
       "\n",
       "    .dataframe tbody tr th {\n",
       "        vertical-align: top;\n",
       "    }\n",
       "\n",
       "    .dataframe thead th {\n",
       "        text-align: right;\n",
       "    }\n",
       "</style>\n",
       "<table border=\"1\" class=\"dataframe\">\n",
       "  <thead>\n",
       "    <tr style=\"text-align: right;\">\n",
       "      <th></th>\n",
       "      <th>car_inital_prob</th>\n",
       "      <th>selected_door</th>\n",
       "      <th>monty_open</th>\n",
       "      <th>stick_A</th>\n",
       "      <th>switch_C</th>\n",
       "      <th>total_car_prob_after_monty_open</th>\n",
       "    </tr>\n",
       "  </thead>\n",
       "  <tbody>\n",
       "    <tr>\n",
       "      <th>A</th>\n",
       "      <td>0.333333</td>\n",
       "      <td>1</td>\n",
       "      <td>0</td>\n",
       "      <td>0.333333</td>\n",
       "      <td>0.000000</td>\n",
       "      <td>0.333333</td>\n",
       "    </tr>\n",
       "    <tr>\n",
       "      <th>B</th>\n",
       "      <td>0.333333</td>\n",
       "      <td>0</td>\n",
       "      <td>1</td>\n",
       "      <td>0.000000</td>\n",
       "      <td>0.000000</td>\n",
       "      <td>0.000000</td>\n",
       "    </tr>\n",
       "    <tr>\n",
       "      <th>C</th>\n",
       "      <td>0.333333</td>\n",
       "      <td>0</td>\n",
       "      <td>0</td>\n",
       "      <td>0.000000</td>\n",
       "      <td>0.666667</td>\n",
       "      <td>0.666667</td>\n",
       "    </tr>\n",
       "  </tbody>\n",
       "</table>\n",
       "</div>"
      ],
      "text/plain": [
       "   car_inital_prob  selected_door  monty_open   stick_A  switch_C  \\\n",
       "A         0.333333              1           0  0.333333  0.000000   \n",
       "B         0.333333              0           1  0.000000  0.000000   \n",
       "C         0.333333              0           0  0.000000  0.666667   \n",
       "\n",
       "   total_car_prob_after_monty_open  \n",
       "A                         0.333333  \n",
       "B                         0.000000  \n",
       "C                         0.666667  "
      ]
     },
     "execution_count": 19,
     "metadata": {},
     "output_type": "execute_result"
    }
   ],
   "source": [
    "data = {'car_inital_prob': [1/3,1/3,1/3],'selected_door': [1,0,0],'monty_open': [0,1,0],'stick_A': [1/3,0,0], 'switch_C': [0,0,2/3],'total_car_prob_after_monty_open': [1/3,0,2/3]}\n",
    "door = ['A','B','C']\n",
    "\n",
    "monty_hall = pd.DataFrame(data, index=door)\n",
    "monty_hall"
   ]
  },
  {
   "cell_type": "code",
   "execution_count": 20,
   "metadata": {},
   "outputs": [
    {
     "name": "stdout",
     "output_type": "stream",
     "text": [
      "3\n",
      "2\n"
     ]
    }
   ],
   "source": [
    "# Pedro's class:\n",
    "[[selected_door, winning_door]] = np.random.randint(low=1,high=4,size=(1,2))\n",
    "print(selected_door)\n",
    "print(winning_door)"
   ]
  },
  {
   "cell_type": "code",
   "execution_count": 21,
   "metadata": {},
   "outputs": [],
   "source": [
    "def monty_hall():\n",
    "    [[selected_door, winning_door]] = np.random.randint(low=1,high=4,size=(1,2))\n",
    "    if selected_door == winning_door:\n",
    "    # When the contestant's initial selection is the winning door, Monty chooses from\n",
    "    # the two remaining doors at random. Both remaining doors contain goats.\n",
    "    # Then, the door in which a contestant would switch to contains a goat.\n",
    "        return False\n",
    "    else:\n",
    "    # When the contestant's initial selection does not contain a car, theirinitial\n",
    "    # selection contains a goat. Monty then opens the other door containinga goat,\n",
    "    # leaving the car behind the switching door.\n",
    "    # Then, the door in which a contestant would switch to contains a goat.\n",
    "        return True"
   ]
  },
  {
   "cell_type": "code",
   "execution_count": 22,
   "metadata": {},
   "outputs": [],
   "source": [
    "def simulate_monty_hall(simulations):\n",
    "    switching_results = 0\n",
    "    not_switching_results = 0\n",
    "    for x in range(simulations):\n",
    "        if monty_hall():\n",
    "            switching_results += 1\n",
    "        else:\n",
    "            not_switching_results += 1\n",
    "    return switching_results / simulations, not_switching_results / simulations"
   ]
  },
  {
   "cell_type": "code",
   "execution_count": 23,
   "metadata": {},
   "outputs": [],
   "source": [
    "n_simulations = 1000"
   ]
  },
  {
   "cell_type": "code",
   "execution_count": 24,
   "metadata": {},
   "outputs": [
    {
     "data": {
      "text/html": [
       "<div>\n",
       "<style scoped>\n",
       "    .dataframe tbody tr th:only-of-type {\n",
       "        vertical-align: middle;\n",
       "    }\n",
       "\n",
       "    .dataframe tbody tr th {\n",
       "        vertical-align: top;\n",
       "    }\n",
       "\n",
       "    .dataframe thead th {\n",
       "        text-align: right;\n",
       "    }\n",
       "</style>\n",
       "<table border=\"1\" class=\"dataframe\">\n",
       "  <thead>\n",
       "    <tr style=\"text-align: right;\">\n",
       "      <th></th>\n",
       "      <th>switch</th>\n",
       "      <th>no_switch</th>\n",
       "    </tr>\n",
       "  </thead>\n",
       "  <tbody>\n",
       "    <tr>\n",
       "      <th>1</th>\n",
       "      <td>1.000000</td>\n",
       "      <td>0.000000</td>\n",
       "    </tr>\n",
       "    <tr>\n",
       "      <th>2</th>\n",
       "      <td>1.000000</td>\n",
       "      <td>0.000000</td>\n",
       "    </tr>\n",
       "    <tr>\n",
       "      <th>3</th>\n",
       "      <td>0.333333</td>\n",
       "      <td>0.666667</td>\n",
       "    </tr>\n",
       "    <tr>\n",
       "      <th>4</th>\n",
       "      <td>0.750000</td>\n",
       "      <td>0.250000</td>\n",
       "    </tr>\n",
       "    <tr>\n",
       "      <th>5</th>\n",
       "      <td>0.600000</td>\n",
       "      <td>0.400000</td>\n",
       "    </tr>\n",
       "    <tr>\n",
       "      <th>6</th>\n",
       "      <td>0.500000</td>\n",
       "      <td>0.500000</td>\n",
       "    </tr>\n",
       "    <tr>\n",
       "      <th>7</th>\n",
       "      <td>0.857143</td>\n",
       "      <td>0.142857</td>\n",
       "    </tr>\n",
       "    <tr>\n",
       "      <th>8</th>\n",
       "      <td>0.625000</td>\n",
       "      <td>0.375000</td>\n",
       "    </tr>\n",
       "    <tr>\n",
       "      <th>9</th>\n",
       "      <td>0.444444</td>\n",
       "      <td>0.555556</td>\n",
       "    </tr>\n",
       "    <tr>\n",
       "      <th>10</th>\n",
       "      <td>0.500000</td>\n",
       "      <td>0.500000</td>\n",
       "    </tr>\n",
       "  </tbody>\n",
       "</table>\n",
       "</div>"
      ],
      "text/plain": [
       "      switch  no_switch\n",
       "1   1.000000   0.000000\n",
       "2   1.000000   0.000000\n",
       "3   0.333333   0.666667\n",
       "4   0.750000   0.250000\n",
       "5   0.600000   0.400000\n",
       "6   0.500000   0.500000\n",
       "7   0.857143   0.142857\n",
       "8   0.625000   0.375000\n",
       "9   0.444444   0.555556\n",
       "10  0.500000   0.500000"
      ]
     },
     "execution_count": 24,
     "metadata": {},
     "output_type": "execute_result"
    }
   ],
   "source": [
    "simulations = [simulate_monty_hall(i+1) for i in range(n_simulations)]\n",
    "df = pd.DataFrame(simulations, columns=['switch', 'no_switch'])\n",
    "df.index = df.index + 1\n",
    "df.head(10)"
   ]
  },
  {
   "cell_type": "code",
   "execution_count": 25,
   "metadata": {},
   "outputs": [
    {
     "data": {
      "text/plain": [
       "<matplotlib.axes._subplots.AxesSubplot at 0x11be00650>"
      ]
     },
     "execution_count": 25,
     "metadata": {},
     "output_type": "execute_result"
    },
    {
     "data": {
      "image/png": "[encoded data removed]",
      "text/plain": [
       "<Figure size 1224x360 with 1 Axes>"
      ]
     },
     "metadata": {
      "needs_background": "light"
     },
     "output_type": "display_data"
    }
   ],
   "source": [
    "df.plot(figsize=(17,5))"
   ]
  },
  {
   "cell_type": "markdown",
   "metadata": {},
   "source": [
    "## 4. Bayesian Analysis \n",
    "\n",
    "Suppose you work for a landscaping company, and they want to advertise their service online. They create an ad and sit back waiting for the money to roll in. On the first day, the ad sends 100 visitors to the site and 14 of them sign up for landscaping services. Create a generative model to come up with the posterior distribution and produce a visualization of what the posterior distribution would look like given the observed data."
   ]
  },
  {
   "cell_type": "code",
   "execution_count": 26,
   "metadata": {},
   "outputs": [
    {
     "data": {
      "text/plain": [
       "<matplotlib.axes._subplots.AxesSubplot at 0x11c33e350>"
      ]
     },
     "execution_count": 26,
     "metadata": {},
     "output_type": "execute_result"
    },
    {
     "data": {
      "image/png": "[encoded data removed]",
      "text/plain": [
       "<Figure size 432x288 with 1 Axes>"
      ]
     },
     "metadata": {
      "needs_background": "light"
     },
     "output_type": "display_data"
    }
   ],
   "source": [
    "visits=100\n",
    "signed=14\n",
    "drawns=20000\n",
    "\n",
    "prior = pd.Series(np.random.uniform(0, 1, drawns))\n",
    "\n",
    "simulation_data = np.random.binomial(visits, prior)\n",
    "posteriors = prior[[i for i, x in enumerate(simulation_data) if x == signed]]\n",
    "posteriors.hist()"
   ]
  },
  {
   "cell_type": "markdown",
   "metadata": {},
   "source": [
    "Produce a set of descriptive statistics for the posterior distribution."
   ]
  },
  {
   "cell_type": "code",
   "execution_count": 27,
   "metadata": {},
   "outputs": [
    {
     "data": {
      "text/plain": [
       "count    197.000000\n",
       "mean       0.144896\n",
       "std        0.033992\n",
       "min        0.078874\n",
       "25%        0.122886\n",
       "50%        0.142175\n",
       "75%        0.166559\n",
       "max        0.261936\n",
       "dtype: float64"
      ]
     },
     "execution_count": 27,
     "metadata": {},
     "output_type": "execute_result"
    }
   ],
   "source": [
    "posteriors.describe()"
   ]
  },
  {
   "cell_type": "markdown",
   "metadata": {},
   "source": [
    "What is the 90% credible interval range?"
   ]
  },
  {
   "cell_type": "code",
   "execution_count": 28,
   "metadata": {},
   "outputs": [
    {
     "data": {
      "text/plain": [
       "array([0.09254185, 0.20582821])"
      ]
     },
     "execution_count": 28,
     "metadata": {},
     "output_type": "execute_result"
    }
   ],
   "source": [
    "np.quantile(posteriors,[0.05,0.95])"
   ]
  },
  {
   "cell_type": "markdown",
   "metadata": {},
   "source": [
    "What is the Maximum Likelihood Estimate?"
   ]
  },
  {
   "cell_type": "code",
   "execution_count": 29,
   "metadata": {},
   "outputs": [],
   "source": [
    "rounded = posteriors.round(2)"
   ]
  },
  {
   "cell_type": "code",
   "execution_count": 30,
   "metadata": {},
   "outputs": [
    {
     "data": {
      "text/plain": [
       "0    0.14\n",
       "1    0.15\n",
       "dtype: float64"
      ]
     },
     "execution_count": 30,
     "metadata": {},
     "output_type": "execute_result"
    }
   ],
   "source": [
    "mode = rounded.mode()\n",
    "mode"
   ]
  }
 ],
 "metadata": {
  "kernelspec": {
   "display_name": "Python [conda env:data_env]",
   "language": "python",
   "name": "conda-env-data_env-py"
  },
  "language_info": {
   "codemirror_mode": {
    "name": "ipython",
    "version": 3
   },
   "file_extension": ".py",
   "mimetype": "text/x-python",
   "name": "python",
   "nbconvert_exporter": "python",
   "pygments_lexer": "ipython3",
   "version": "3.7.5"
  }
 },
 "nbformat": 4,
 "nbformat_minor": 4
}
